{
  "nbformat": 4,
  "nbformat_minor": 0,
  "metadata": {
    "colab": {
      "provenance": [],
      "collapsed_sections": [
        "ZrfqXMtCCN5C",
        "031JTdMPChfM",
        "XfKk9qoRDJ-N",
        "GWEh4VD2DyN6",
        "fdPvOUlgD1nc",
        "O7IMY-QBD6KF",
        "vWWGM2PwD-O4",
        "d313O4yGEB4a",
        "aEK3kXgfEGBb",
        "o1CH1jJoEKPS"
      ]
    },
    "kernelspec": {
      "name": "python3",
      "display_name": "Python 3"
    },
    "language_info": {
      "name": "python"
    },
    "accelerator": "GPU",
    "widgets": {
      "application/vnd.jupyter.widget-state+json": {
        "e23c3e62d573405a8b4042ab85306aaa": {
          "model_module": "@jupyter-widgets/controls",
          "model_name": "VBoxModel",
          "model_module_version": "1.5.0",
          "state": {
            "_dom_classes": [],
            "_model_module": "@jupyter-widgets/controls",
            "_model_module_version": "1.5.0",
            "_model_name": "VBoxModel",
            "_view_count": null,
            "_view_module": "@jupyter-widgets/controls",
            "_view_module_version": "1.5.0",
            "_view_name": "VBoxView",
            "box_style": "",
            "children": [
              "IPY_MODEL_8e12d16496a44422a3f3bbe4a2936746",
              "IPY_MODEL_a3a5687b542445e8a961a10af5301f52"
            ],
            "layout": "IPY_MODEL_7d6c3b99de424eae82c618858ec2790c"
          }
        },
        "8e12d16496a44422a3f3bbe4a2936746": {
          "model_module": "@jupyter-widgets/controls",
          "model_name": "LabelModel",
          "model_module_version": "1.5.0",
          "state": {
            "_dom_classes": [],
            "_model_module": "@jupyter-widgets/controls",
            "_model_module_version": "1.5.0",
            "_model_name": "LabelModel",
            "_view_count": null,
            "_view_module": "@jupyter-widgets/controls",
            "_view_module_version": "1.5.0",
            "_view_name": "LabelView",
            "description": "",
            "description_tooltip": null,
            "layout": "IPY_MODEL_b52ae9b758be46d9bcc68755529f2b1b",
            "placeholder": "​",
            "style": "IPY_MODEL_e19c4e27afbf46ba8d79ec1cb6d265eb",
            "value": "0.020 MB of 0.020 MB uploaded (0.000 MB deduped)\r"
          }
        },
        "a3a5687b542445e8a961a10af5301f52": {
          "model_module": "@jupyter-widgets/controls",
          "model_name": "FloatProgressModel",
          "model_module_version": "1.5.0",
          "state": {
            "_dom_classes": [],
            "_model_module": "@jupyter-widgets/controls",
            "_model_module_version": "1.5.0",
            "_model_name": "FloatProgressModel",
            "_view_count": null,
            "_view_module": "@jupyter-widgets/controls",
            "_view_module_version": "1.5.0",
            "_view_name": "ProgressView",
            "bar_style": "",
            "description": "",
            "description_tooltip": null,
            "layout": "IPY_MODEL_f63ee4e8e5bb44c9b3c21a9b1e0351a8",
            "max": 1,
            "min": 0,
            "orientation": "horizontal",
            "style": "IPY_MODEL_d6321c69b16d4f93abce2c64aeb23571",
            "value": 1
          }
        },
        "7d6c3b99de424eae82c618858ec2790c": {
          "model_module": "@jupyter-widgets/base",
          "model_name": "LayoutModel",
          "model_module_version": "1.2.0",
          "state": {
            "_model_module": "@jupyter-widgets/base",
            "_model_module_version": "1.2.0",
            "_model_name": "LayoutModel",
            "_view_count": null,
            "_view_module": "@jupyter-widgets/base",
            "_view_module_version": "1.2.0",
            "_view_name": "LayoutView",
            "align_content": null,
            "align_items": null,
            "align_self": null,
            "border": null,
            "bottom": null,
            "display": null,
            "flex": null,
            "flex_flow": null,
            "grid_area": null,
            "grid_auto_columns": null,
            "grid_auto_flow": null,
            "grid_auto_rows": null,
            "grid_column": null,
            "grid_gap": null,
            "grid_row": null,
            "grid_template_areas": null,
            "grid_template_columns": null,
            "grid_template_rows": null,
            "height": null,
            "justify_content": null,
            "justify_items": null,
            "left": null,
            "margin": null,
            "max_height": null,
            "max_width": null,
            "min_height": null,
            "min_width": null,
            "object_fit": null,
            "object_position": null,
            "order": null,
            "overflow": null,
            "overflow_x": null,
            "overflow_y": null,
            "padding": null,
            "right": null,
            "top": null,
            "visibility": null,
            "width": null
          }
        },
        "b52ae9b758be46d9bcc68755529f2b1b": {
          "model_module": "@jupyter-widgets/base",
          "model_name": "LayoutModel",
          "model_module_version": "1.2.0",
          "state": {
            "_model_module": "@jupyter-widgets/base",
            "_model_module_version": "1.2.0",
            "_model_name": "LayoutModel",
            "_view_count": null,
            "_view_module": "@jupyter-widgets/base",
            "_view_module_version": "1.2.0",
            "_view_name": "LayoutView",
            "align_content": null,
            "align_items": null,
            "align_self": null,
            "border": null,
            "bottom": null,
            "display": null,
            "flex": null,
            "flex_flow": null,
            "grid_area": null,
            "grid_auto_columns": null,
            "grid_auto_flow": null,
            "grid_auto_rows": null,
            "grid_column": null,
            "grid_gap": null,
            "grid_row": null,
            "grid_template_areas": null,
            "grid_template_columns": null,
            "grid_template_rows": null,
            "height": null,
            "justify_content": null,
            "justify_items": null,
            "left": null,
            "margin": null,
            "max_height": null,
            "max_width": null,
            "min_height": null,
            "min_width": null,
            "object_fit": null,
            "object_position": null,
            "order": null,
            "overflow": null,
            "overflow_x": null,
            "overflow_y": null,
            "padding": null,
            "right": null,
            "top": null,
            "visibility": null,
            "width": null
          }
        },
        "e19c4e27afbf46ba8d79ec1cb6d265eb": {
          "model_module": "@jupyter-widgets/controls",
          "model_name": "DescriptionStyleModel",
          "model_module_version": "1.5.0",
          "state": {
            "_model_module": "@jupyter-widgets/controls",
            "_model_module_version": "1.5.0",
            "_model_name": "DescriptionStyleModel",
            "_view_count": null,
            "_view_module": "@jupyter-widgets/base",
            "_view_module_version": "1.2.0",
            "_view_name": "StyleView",
            "description_width": ""
          }
        },
        "f63ee4e8e5bb44c9b3c21a9b1e0351a8": {
          "model_module": "@jupyter-widgets/base",
          "model_name": "LayoutModel",
          "model_module_version": "1.2.0",
          "state": {
            "_model_module": "@jupyter-widgets/base",
            "_model_module_version": "1.2.0",
            "_model_name": "LayoutModel",
            "_view_count": null,
            "_view_module": "@jupyter-widgets/base",
            "_view_module_version": "1.2.0",
            "_view_name": "LayoutView",
            "align_content": null,
            "align_items": null,
            "align_self": null,
            "border": null,
            "bottom": null,
            "display": null,
            "flex": null,
            "flex_flow": null,
            "grid_area": null,
            "grid_auto_columns": null,
            "grid_auto_flow": null,
            "grid_auto_rows": null,
            "grid_column": null,
            "grid_gap": null,
            "grid_row": null,
            "grid_template_areas": null,
            "grid_template_columns": null,
            "grid_template_rows": null,
            "height": null,
            "justify_content": null,
            "justify_items": null,
            "left": null,
            "margin": null,
            "max_height": null,
            "max_width": null,
            "min_height": null,
            "min_width": null,
            "object_fit": null,
            "object_position": null,
            "order": null,
            "overflow": null,
            "overflow_x": null,
            "overflow_y": null,
            "padding": null,
            "right": null,
            "top": null,
            "visibility": null,
            "width": null
          }
        },
        "d6321c69b16d4f93abce2c64aeb23571": {
          "model_module": "@jupyter-widgets/controls",
          "model_name": "ProgressStyleModel",
          "model_module_version": "1.5.0",
          "state": {
            "_model_module": "@jupyter-widgets/controls",
            "_model_module_version": "1.5.0",
            "_model_name": "ProgressStyleModel",
            "_view_count": null,
            "_view_module": "@jupyter-widgets/base",
            "_view_module_version": "1.2.0",
            "_view_name": "StyleView",
            "bar_color": null,
            "description_width": ""
          }
        },
        "761f8d17ab064952893b20bd96b8e4be": {
          "model_module": "@jupyter-widgets/controls",
          "model_name": "VBoxModel",
          "model_module_version": "1.5.0",
          "state": {
            "_dom_classes": [],
            "_model_module": "@jupyter-widgets/controls",
            "_model_module_version": "1.5.0",
            "_model_name": "VBoxModel",
            "_view_count": null,
            "_view_module": "@jupyter-widgets/controls",
            "_view_module_version": "1.5.0",
            "_view_name": "VBoxView",
            "box_style": "",
            "children": [
              "IPY_MODEL_f012dbd58e76490c86c8b6af30263042",
              "IPY_MODEL_6384dcb0877440a9a5ec541c393d9242"
            ],
            "layout": "IPY_MODEL_fe3839a0ea844c4287a367f360b31ca2"
          }
        },
        "f012dbd58e76490c86c8b6af30263042": {
          "model_module": "@jupyter-widgets/controls",
          "model_name": "LabelModel",
          "model_module_version": "1.5.0",
          "state": {
            "_dom_classes": [],
            "_model_module": "@jupyter-widgets/controls",
            "_model_module_version": "1.5.0",
            "_model_name": "LabelModel",
            "_view_count": null,
            "_view_module": "@jupyter-widgets/controls",
            "_view_module_version": "1.5.0",
            "_view_name": "LabelView",
            "description": "",
            "description_tooltip": null,
            "layout": "IPY_MODEL_c7d70da245af4f8b9de93d4fb68bb6c1",
            "placeholder": "​",
            "style": "IPY_MODEL_698459f8abcc4cdd942599fc1835ae14",
            "value": "0.013 MB of 0.013 MB uploaded (0.000 MB deduped)\r"
          }
        },
        "6384dcb0877440a9a5ec541c393d9242": {
          "model_module": "@jupyter-widgets/controls",
          "model_name": "FloatProgressModel",
          "model_module_version": "1.5.0",
          "state": {
            "_dom_classes": [],
            "_model_module": "@jupyter-widgets/controls",
            "_model_module_version": "1.5.0",
            "_model_name": "FloatProgressModel",
            "_view_count": null,
            "_view_module": "@jupyter-widgets/controls",
            "_view_module_version": "1.5.0",
            "_view_name": "ProgressView",
            "bar_style": "",
            "description": "",
            "description_tooltip": null,
            "layout": "IPY_MODEL_11d31bae050d4ed7abb39e46bd9237e7",
            "max": 1,
            "min": 0,
            "orientation": "horizontal",
            "style": "IPY_MODEL_bd37bca051194f1d807fc8cd575c0640",
            "value": 1
          }
        },
        "fe3839a0ea844c4287a367f360b31ca2": {
          "model_module": "@jupyter-widgets/base",
          "model_name": "LayoutModel",
          "model_module_version": "1.2.0",
          "state": {
            "_model_module": "@jupyter-widgets/base",
            "_model_module_version": "1.2.0",
            "_model_name": "LayoutModel",
            "_view_count": null,
            "_view_module": "@jupyter-widgets/base",
            "_view_module_version": "1.2.0",
            "_view_name": "LayoutView",
            "align_content": null,
            "align_items": null,
            "align_self": null,
            "border": null,
            "bottom": null,
            "display": null,
            "flex": null,
            "flex_flow": null,
            "grid_area": null,
            "grid_auto_columns": null,
            "grid_auto_flow": null,
            "grid_auto_rows": null,
            "grid_column": null,
            "grid_gap": null,
            "grid_row": null,
            "grid_template_areas": null,
            "grid_template_columns": null,
            "grid_template_rows": null,
            "height": null,
            "justify_content": null,
            "justify_items": null,
            "left": null,
            "margin": null,
            "max_height": null,
            "max_width": null,
            "min_height": null,
            "min_width": null,
            "object_fit": null,
            "object_position": null,
            "order": null,
            "overflow": null,
            "overflow_x": null,
            "overflow_y": null,
            "padding": null,
            "right": null,
            "top": null,
            "visibility": null,
            "width": null
          }
        },
        "c7d70da245af4f8b9de93d4fb68bb6c1": {
          "model_module": "@jupyter-widgets/base",
          "model_name": "LayoutModel",
          "model_module_version": "1.2.0",
          "state": {
            "_model_module": "@jupyter-widgets/base",
            "_model_module_version": "1.2.0",
            "_model_name": "LayoutModel",
            "_view_count": null,
            "_view_module": "@jupyter-widgets/base",
            "_view_module_version": "1.2.0",
            "_view_name": "LayoutView",
            "align_content": null,
            "align_items": null,
            "align_self": null,
            "border": null,
            "bottom": null,
            "display": null,
            "flex": null,
            "flex_flow": null,
            "grid_area": null,
            "grid_auto_columns": null,
            "grid_auto_flow": null,
            "grid_auto_rows": null,
            "grid_column": null,
            "grid_gap": null,
            "grid_row": null,
            "grid_template_areas": null,
            "grid_template_columns": null,
            "grid_template_rows": null,
            "height": null,
            "justify_content": null,
            "justify_items": null,
            "left": null,
            "margin": null,
            "max_height": null,
            "max_width": null,
            "min_height": null,
            "min_width": null,
            "object_fit": null,
            "object_position": null,
            "order": null,
            "overflow": null,
            "overflow_x": null,
            "overflow_y": null,
            "padding": null,
            "right": null,
            "top": null,
            "visibility": null,
            "width": null
          }
        },
        "698459f8abcc4cdd942599fc1835ae14": {
          "model_module": "@jupyter-widgets/controls",
          "model_name": "DescriptionStyleModel",
          "model_module_version": "1.5.0",
          "state": {
            "_model_module": "@jupyter-widgets/controls",
            "_model_module_version": "1.5.0",
            "_model_name": "DescriptionStyleModel",
            "_view_count": null,
            "_view_module": "@jupyter-widgets/base",
            "_view_module_version": "1.2.0",
            "_view_name": "StyleView",
            "description_width": ""
          }
        },
        "11d31bae050d4ed7abb39e46bd9237e7": {
          "model_module": "@jupyter-widgets/base",
          "model_name": "LayoutModel",
          "model_module_version": "1.2.0",
          "state": {
            "_model_module": "@jupyter-widgets/base",
            "_model_module_version": "1.2.0",
            "_model_name": "LayoutModel",
            "_view_count": null,
            "_view_module": "@jupyter-widgets/base",
            "_view_module_version": "1.2.0",
            "_view_name": "LayoutView",
            "align_content": null,
            "align_items": null,
            "align_self": null,
            "border": null,
            "bottom": null,
            "display": null,
            "flex": null,
            "flex_flow": null,
            "grid_area": null,
            "grid_auto_columns": null,
            "grid_auto_flow": null,
            "grid_auto_rows": null,
            "grid_column": null,
            "grid_gap": null,
            "grid_row": null,
            "grid_template_areas": null,
            "grid_template_columns": null,
            "grid_template_rows": null,
            "height": null,
            "justify_content": null,
            "justify_items": null,
            "left": null,
            "margin": null,
            "max_height": null,
            "max_width": null,
            "min_height": null,
            "min_width": null,
            "object_fit": null,
            "object_position": null,
            "order": null,
            "overflow": null,
            "overflow_x": null,
            "overflow_y": null,
            "padding": null,
            "right": null,
            "top": null,
            "visibility": null,
            "width": null
          }
        },
        "bd37bca051194f1d807fc8cd575c0640": {
          "model_module": "@jupyter-widgets/controls",
          "model_name": "ProgressStyleModel",
          "model_module_version": "1.5.0",
          "state": {
            "_model_module": "@jupyter-widgets/controls",
            "_model_module_version": "1.5.0",
            "_model_name": "ProgressStyleModel",
            "_view_count": null,
            "_view_module": "@jupyter-widgets/base",
            "_view_module_version": "1.2.0",
            "_view_name": "StyleView",
            "bar_color": null,
            "description_width": ""
          }
        },
        "eae23ebb60c4404193e33d01426a2308": {
          "model_module": "@jupyter-widgets/controls",
          "model_name": "VBoxModel",
          "model_module_version": "1.5.0",
          "state": {
            "_dom_classes": [],
            "_model_module": "@jupyter-widgets/controls",
            "_model_module_version": "1.5.0",
            "_model_name": "VBoxModel",
            "_view_count": null,
            "_view_module": "@jupyter-widgets/controls",
            "_view_module_version": "1.5.0",
            "_view_name": "VBoxView",
            "box_style": "",
            "children": [
              "IPY_MODEL_9e3491a0a7ee4ff59a184695dfe1c94a",
              "IPY_MODEL_e38a387fd5af4542ad08979042ec5fb9"
            ],
            "layout": "IPY_MODEL_f76f330452f44c1580fb12b04e7ab26c"
          }
        },
        "9e3491a0a7ee4ff59a184695dfe1c94a": {
          "model_module": "@jupyter-widgets/controls",
          "model_name": "LabelModel",
          "model_module_version": "1.5.0",
          "state": {
            "_dom_classes": [],
            "_model_module": "@jupyter-widgets/controls",
            "_model_module_version": "1.5.0",
            "_model_name": "LabelModel",
            "_view_count": null,
            "_view_module": "@jupyter-widgets/controls",
            "_view_module_version": "1.5.0",
            "_view_name": "LabelView",
            "description": "",
            "description_tooltip": null,
            "layout": "IPY_MODEL_b3ac8d2ae0694ceabd3985307ed32522",
            "placeholder": "​",
            "style": "IPY_MODEL_3f993e117a0342b8b27198ead4e705ed",
            "value": "0.013 MB of 0.013 MB uploaded (0.000 MB deduped)\r"
          }
        },
        "e38a387fd5af4542ad08979042ec5fb9": {
          "model_module": "@jupyter-widgets/controls",
          "model_name": "FloatProgressModel",
          "model_module_version": "1.5.0",
          "state": {
            "_dom_classes": [],
            "_model_module": "@jupyter-widgets/controls",
            "_model_module_version": "1.5.0",
            "_model_name": "FloatProgressModel",
            "_view_count": null,
            "_view_module": "@jupyter-widgets/controls",
            "_view_module_version": "1.5.0",
            "_view_name": "ProgressView",
            "bar_style": "",
            "description": "",
            "description_tooltip": null,
            "layout": "IPY_MODEL_f5f9e72e2b4141b0b42ba13f976c2664",
            "max": 1,
            "min": 0,
            "orientation": "horizontal",
            "style": "IPY_MODEL_239de8a4cea4447d86f352a18a306b3d",
            "value": 1
          }
        },
        "f76f330452f44c1580fb12b04e7ab26c": {
          "model_module": "@jupyter-widgets/base",
          "model_name": "LayoutModel",
          "model_module_version": "1.2.0",
          "state": {
            "_model_module": "@jupyter-widgets/base",
            "_model_module_version": "1.2.0",
            "_model_name": "LayoutModel",
            "_view_count": null,
            "_view_module": "@jupyter-widgets/base",
            "_view_module_version": "1.2.0",
            "_view_name": "LayoutView",
            "align_content": null,
            "align_items": null,
            "align_self": null,
            "border": null,
            "bottom": null,
            "display": null,
            "flex": null,
            "flex_flow": null,
            "grid_area": null,
            "grid_auto_columns": null,
            "grid_auto_flow": null,
            "grid_auto_rows": null,
            "grid_column": null,
            "grid_gap": null,
            "grid_row": null,
            "grid_template_areas": null,
            "grid_template_columns": null,
            "grid_template_rows": null,
            "height": null,
            "justify_content": null,
            "justify_items": null,
            "left": null,
            "margin": null,
            "max_height": null,
            "max_width": null,
            "min_height": null,
            "min_width": null,
            "object_fit": null,
            "object_position": null,
            "order": null,
            "overflow": null,
            "overflow_x": null,
            "overflow_y": null,
            "padding": null,
            "right": null,
            "top": null,
            "visibility": null,
            "width": null
          }
        },
        "b3ac8d2ae0694ceabd3985307ed32522": {
          "model_module": "@jupyter-widgets/base",
          "model_name": "LayoutModel",
          "model_module_version": "1.2.0",
          "state": {
            "_model_module": "@jupyter-widgets/base",
            "_model_module_version": "1.2.0",
            "_model_name": "LayoutModel",
            "_view_count": null,
            "_view_module": "@jupyter-widgets/base",
            "_view_module_version": "1.2.0",
            "_view_name": "LayoutView",
            "align_content": null,
            "align_items": null,
            "align_self": null,
            "border": null,
            "bottom": null,
            "display": null,
            "flex": null,
            "flex_flow": null,
            "grid_area": null,
            "grid_auto_columns": null,
            "grid_auto_flow": null,
            "grid_auto_rows": null,
            "grid_column": null,
            "grid_gap": null,
            "grid_row": null,
            "grid_template_areas": null,
            "grid_template_columns": null,
            "grid_template_rows": null,
            "height": null,
            "justify_content": null,
            "justify_items": null,
            "left": null,
            "margin": null,
            "max_height": null,
            "max_width": null,
            "min_height": null,
            "min_width": null,
            "object_fit": null,
            "object_position": null,
            "order": null,
            "overflow": null,
            "overflow_x": null,
            "overflow_y": null,
            "padding": null,
            "right": null,
            "top": null,
            "visibility": null,
            "width": null
          }
        },
        "3f993e117a0342b8b27198ead4e705ed": {
          "model_module": "@jupyter-widgets/controls",
          "model_name": "DescriptionStyleModel",
          "model_module_version": "1.5.0",
          "state": {
            "_model_module": "@jupyter-widgets/controls",
            "_model_module_version": "1.5.0",
            "_model_name": "DescriptionStyleModel",
            "_view_count": null,
            "_view_module": "@jupyter-widgets/base",
            "_view_module_version": "1.2.0",
            "_view_name": "StyleView",
            "description_width": ""
          }
        },
        "f5f9e72e2b4141b0b42ba13f976c2664": {
          "model_module": "@jupyter-widgets/base",
          "model_name": "LayoutModel",
          "model_module_version": "1.2.0",
          "state": {
            "_model_module": "@jupyter-widgets/base",
            "_model_module_version": "1.2.0",
            "_model_name": "LayoutModel",
            "_view_count": null,
            "_view_module": "@jupyter-widgets/base",
            "_view_module_version": "1.2.0",
            "_view_name": "LayoutView",
            "align_content": null,
            "align_items": null,
            "align_self": null,
            "border": null,
            "bottom": null,
            "display": null,
            "flex": null,
            "flex_flow": null,
            "grid_area": null,
            "grid_auto_columns": null,
            "grid_auto_flow": null,
            "grid_auto_rows": null,
            "grid_column": null,
            "grid_gap": null,
            "grid_row": null,
            "grid_template_areas": null,
            "grid_template_columns": null,
            "grid_template_rows": null,
            "height": null,
            "justify_content": null,
            "justify_items": null,
            "left": null,
            "margin": null,
            "max_height": null,
            "max_width": null,
            "min_height": null,
            "min_width": null,
            "object_fit": null,
            "object_position": null,
            "order": null,
            "overflow": null,
            "overflow_x": null,
            "overflow_y": null,
            "padding": null,
            "right": null,
            "top": null,
            "visibility": null,
            "width": null
          }
        },
        "239de8a4cea4447d86f352a18a306b3d": {
          "model_module": "@jupyter-widgets/controls",
          "model_name": "ProgressStyleModel",
          "model_module_version": "1.5.0",
          "state": {
            "_model_module": "@jupyter-widgets/controls",
            "_model_module_version": "1.5.0",
            "_model_name": "ProgressStyleModel",
            "_view_count": null,
            "_view_module": "@jupyter-widgets/base",
            "_view_module_version": "1.2.0",
            "_view_name": "StyleView",
            "bar_color": null,
            "description_width": ""
          }
        },
        "234cc8079a1b48c9ad3a2bb64f8ec204": {
          "model_module": "@jupyter-widgets/controls",
          "model_name": "VBoxModel",
          "model_module_version": "1.5.0",
          "state": {
            "_dom_classes": [],
            "_model_module": "@jupyter-widgets/controls",
            "_model_module_version": "1.5.0",
            "_model_name": "VBoxModel",
            "_view_count": null,
            "_view_module": "@jupyter-widgets/controls",
            "_view_module_version": "1.5.0",
            "_view_name": "VBoxView",
            "box_style": "",
            "children": [
              "IPY_MODEL_f500302981924102abee5f156d9c8251",
              "IPY_MODEL_7f9321a0154543eaa51f3d5701a2044f"
            ],
            "layout": "IPY_MODEL_f127155be3f548f599b8e51ddf47a7a2"
          }
        },
        "f500302981924102abee5f156d9c8251": {
          "model_module": "@jupyter-widgets/controls",
          "model_name": "LabelModel",
          "model_module_version": "1.5.0",
          "state": {
            "_dom_classes": [],
            "_model_module": "@jupyter-widgets/controls",
            "_model_module_version": "1.5.0",
            "_model_name": "LabelModel",
            "_view_count": null,
            "_view_module": "@jupyter-widgets/controls",
            "_view_module_version": "1.5.0",
            "_view_name": "LabelView",
            "description": "",
            "description_tooltip": null,
            "layout": "IPY_MODEL_c4a6ac3bc6a540918204ebd182bde125",
            "placeholder": "​",
            "style": "IPY_MODEL_54890d4b77c0443eb2e6fd4d1d98cd1e",
            "value": "0.013 MB of 0.013 MB uploaded (0.000 MB deduped)\r"
          }
        },
        "7f9321a0154543eaa51f3d5701a2044f": {
          "model_module": "@jupyter-widgets/controls",
          "model_name": "FloatProgressModel",
          "model_module_version": "1.5.0",
          "state": {
            "_dom_classes": [],
            "_model_module": "@jupyter-widgets/controls",
            "_model_module_version": "1.5.0",
            "_model_name": "FloatProgressModel",
            "_view_count": null,
            "_view_module": "@jupyter-widgets/controls",
            "_view_module_version": "1.5.0",
            "_view_name": "ProgressView",
            "bar_style": "",
            "description": "",
            "description_tooltip": null,
            "layout": "IPY_MODEL_28442b41cc524398ad72572abf91c8d8",
            "max": 1,
            "min": 0,
            "orientation": "horizontal",
            "style": "IPY_MODEL_09fb93527d2242b1aa9e1411b25ffc6d",
            "value": 1
          }
        },
        "f127155be3f548f599b8e51ddf47a7a2": {
          "model_module": "@jupyter-widgets/base",
          "model_name": "LayoutModel",
          "model_module_version": "1.2.0",
          "state": {
            "_model_module": "@jupyter-widgets/base",
            "_model_module_version": "1.2.0",
            "_model_name": "LayoutModel",
            "_view_count": null,
            "_view_module": "@jupyter-widgets/base",
            "_view_module_version": "1.2.0",
            "_view_name": "LayoutView",
            "align_content": null,
            "align_items": null,
            "align_self": null,
            "border": null,
            "bottom": null,
            "display": null,
            "flex": null,
            "flex_flow": null,
            "grid_area": null,
            "grid_auto_columns": null,
            "grid_auto_flow": null,
            "grid_auto_rows": null,
            "grid_column": null,
            "grid_gap": null,
            "grid_row": null,
            "grid_template_areas": null,
            "grid_template_columns": null,
            "grid_template_rows": null,
            "height": null,
            "justify_content": null,
            "justify_items": null,
            "left": null,
            "margin": null,
            "max_height": null,
            "max_width": null,
            "min_height": null,
            "min_width": null,
            "object_fit": null,
            "object_position": null,
            "order": null,
            "overflow": null,
            "overflow_x": null,
            "overflow_y": null,
            "padding": null,
            "right": null,
            "top": null,
            "visibility": null,
            "width": null
          }
        },
        "c4a6ac3bc6a540918204ebd182bde125": {
          "model_module": "@jupyter-widgets/base",
          "model_name": "LayoutModel",
          "model_module_version": "1.2.0",
          "state": {
            "_model_module": "@jupyter-widgets/base",
            "_model_module_version": "1.2.0",
            "_model_name": "LayoutModel",
            "_view_count": null,
            "_view_module": "@jupyter-widgets/base",
            "_view_module_version": "1.2.0",
            "_view_name": "LayoutView",
            "align_content": null,
            "align_items": null,
            "align_self": null,
            "border": null,
            "bottom": null,
            "display": null,
            "flex": null,
            "flex_flow": null,
            "grid_area": null,
            "grid_auto_columns": null,
            "grid_auto_flow": null,
            "grid_auto_rows": null,
            "grid_column": null,
            "grid_gap": null,
            "grid_row": null,
            "grid_template_areas": null,
            "grid_template_columns": null,
            "grid_template_rows": null,
            "height": null,
            "justify_content": null,
            "justify_items": null,
            "left": null,
            "margin": null,
            "max_height": null,
            "max_width": null,
            "min_height": null,
            "min_width": null,
            "object_fit": null,
            "object_position": null,
            "order": null,
            "overflow": null,
            "overflow_x": null,
            "overflow_y": null,
            "padding": null,
            "right": null,
            "top": null,
            "visibility": null,
            "width": null
          }
        },
        "54890d4b77c0443eb2e6fd4d1d98cd1e": {
          "model_module": "@jupyter-widgets/controls",
          "model_name": "DescriptionStyleModel",
          "model_module_version": "1.5.0",
          "state": {
            "_model_module": "@jupyter-widgets/controls",
            "_model_module_version": "1.5.0",
            "_model_name": "DescriptionStyleModel",
            "_view_count": null,
            "_view_module": "@jupyter-widgets/base",
            "_view_module_version": "1.2.0",
            "_view_name": "StyleView",
            "description_width": ""
          }
        },
        "28442b41cc524398ad72572abf91c8d8": {
          "model_module": "@jupyter-widgets/base",
          "model_name": "LayoutModel",
          "model_module_version": "1.2.0",
          "state": {
            "_model_module": "@jupyter-widgets/base",
            "_model_module_version": "1.2.0",
            "_model_name": "LayoutModel",
            "_view_count": null,
            "_view_module": "@jupyter-widgets/base",
            "_view_module_version": "1.2.0",
            "_view_name": "LayoutView",
            "align_content": null,
            "align_items": null,
            "align_self": null,
            "border": null,
            "bottom": null,
            "display": null,
            "flex": null,
            "flex_flow": null,
            "grid_area": null,
            "grid_auto_columns": null,
            "grid_auto_flow": null,
            "grid_auto_rows": null,
            "grid_column": null,
            "grid_gap": null,
            "grid_row": null,
            "grid_template_areas": null,
            "grid_template_columns": null,
            "grid_template_rows": null,
            "height": null,
            "justify_content": null,
            "justify_items": null,
            "left": null,
            "margin": null,
            "max_height": null,
            "max_width": null,
            "min_height": null,
            "min_width": null,
            "object_fit": null,
            "object_position": null,
            "order": null,
            "overflow": null,
            "overflow_x": null,
            "overflow_y": null,
            "padding": null,
            "right": null,
            "top": null,
            "visibility": null,
            "width": null
          }
        },
        "09fb93527d2242b1aa9e1411b25ffc6d": {
          "model_module": "@jupyter-widgets/controls",
          "model_name": "ProgressStyleModel",
          "model_module_version": "1.5.0",
          "state": {
            "_model_module": "@jupyter-widgets/controls",
            "_model_module_version": "1.5.0",
            "_model_name": "ProgressStyleModel",
            "_view_count": null,
            "_view_module": "@jupyter-widgets/base",
            "_view_module_version": "1.2.0",
            "_view_name": "StyleView",
            "bar_color": null,
            "description_width": ""
          }
        },
        "716d63d150d941cdbee8c0c468a61c9b": {
          "model_module": "@jupyter-widgets/controls",
          "model_name": "VBoxModel",
          "model_module_version": "1.5.0",
          "state": {
            "_dom_classes": [],
            "_model_module": "@jupyter-widgets/controls",
            "_model_module_version": "1.5.0",
            "_model_name": "VBoxModel",
            "_view_count": null,
            "_view_module": "@jupyter-widgets/controls",
            "_view_module_version": "1.5.0",
            "_view_name": "VBoxView",
            "box_style": "",
            "children": [
              "IPY_MODEL_905ef6da83d049cf8bbf8b38692cc13d",
              "IPY_MODEL_4c539ced0ec843f78dfdd785ab40600e"
            ],
            "layout": "IPY_MODEL_9227aa9f5298459caa7a5af7331811e3"
          }
        },
        "905ef6da83d049cf8bbf8b38692cc13d": {
          "model_module": "@jupyter-widgets/controls",
          "model_name": "LabelModel",
          "model_module_version": "1.5.0",
          "state": {
            "_dom_classes": [],
            "_model_module": "@jupyter-widgets/controls",
            "_model_module_version": "1.5.0",
            "_model_name": "LabelModel",
            "_view_count": null,
            "_view_module": "@jupyter-widgets/controls",
            "_view_module_version": "1.5.0",
            "_view_name": "LabelView",
            "description": "",
            "description_tooltip": null,
            "layout": "IPY_MODEL_5263699ab14743eb98a387785e1247f6",
            "placeholder": "​",
            "style": "IPY_MODEL_0921c8a28b754ca5b41ff04cca1df396",
            "value": "0.013 MB of 0.013 MB uploaded (0.000 MB deduped)\r"
          }
        },
        "4c539ced0ec843f78dfdd785ab40600e": {
          "model_module": "@jupyter-widgets/controls",
          "model_name": "FloatProgressModel",
          "model_module_version": "1.5.0",
          "state": {
            "_dom_classes": [],
            "_model_module": "@jupyter-widgets/controls",
            "_model_module_version": "1.5.0",
            "_model_name": "FloatProgressModel",
            "_view_count": null,
            "_view_module": "@jupyter-widgets/controls",
            "_view_module_version": "1.5.0",
            "_view_name": "ProgressView",
            "bar_style": "",
            "description": "",
            "description_tooltip": null,
            "layout": "IPY_MODEL_8ee2eaee672642e48094bf22bb9016ac",
            "max": 1,
            "min": 0,
            "orientation": "horizontal",
            "style": "IPY_MODEL_5ffd70121ead41d3916d90b651f8bb5f",
            "value": 1
          }
        },
        "9227aa9f5298459caa7a5af7331811e3": {
          "model_module": "@jupyter-widgets/base",
          "model_name": "LayoutModel",
          "model_module_version": "1.2.0",
          "state": {
            "_model_module": "@jupyter-widgets/base",
            "_model_module_version": "1.2.0",
            "_model_name": "LayoutModel",
            "_view_count": null,
            "_view_module": "@jupyter-widgets/base",
            "_view_module_version": "1.2.0",
            "_view_name": "LayoutView",
            "align_content": null,
            "align_items": null,
            "align_self": null,
            "border": null,
            "bottom": null,
            "display": null,
            "flex": null,
            "flex_flow": null,
            "grid_area": null,
            "grid_auto_columns": null,
            "grid_auto_flow": null,
            "grid_auto_rows": null,
            "grid_column": null,
            "grid_gap": null,
            "grid_row": null,
            "grid_template_areas": null,
            "grid_template_columns": null,
            "grid_template_rows": null,
            "height": null,
            "justify_content": null,
            "justify_items": null,
            "left": null,
            "margin": null,
            "max_height": null,
            "max_width": null,
            "min_height": null,
            "min_width": null,
            "object_fit": null,
            "object_position": null,
            "order": null,
            "overflow": null,
            "overflow_x": null,
            "overflow_y": null,
            "padding": null,
            "right": null,
            "top": null,
            "visibility": null,
            "width": null
          }
        },
        "5263699ab14743eb98a387785e1247f6": {
          "model_module": "@jupyter-widgets/base",
          "model_name": "LayoutModel",
          "model_module_version": "1.2.0",
          "state": {
            "_model_module": "@jupyter-widgets/base",
            "_model_module_version": "1.2.0",
            "_model_name": "LayoutModel",
            "_view_count": null,
            "_view_module": "@jupyter-widgets/base",
            "_view_module_version": "1.2.0",
            "_view_name": "LayoutView",
            "align_content": null,
            "align_items": null,
            "align_self": null,
            "border": null,
            "bottom": null,
            "display": null,
            "flex": null,
            "flex_flow": null,
            "grid_area": null,
            "grid_auto_columns": null,
            "grid_auto_flow": null,
            "grid_auto_rows": null,
            "grid_column": null,
            "grid_gap": null,
            "grid_row": null,
            "grid_template_areas": null,
            "grid_template_columns": null,
            "grid_template_rows": null,
            "height": null,
            "justify_content": null,
            "justify_items": null,
            "left": null,
            "margin": null,
            "max_height": null,
            "max_width": null,
            "min_height": null,
            "min_width": null,
            "object_fit": null,
            "object_position": null,
            "order": null,
            "overflow": null,
            "overflow_x": null,
            "overflow_y": null,
            "padding": null,
            "right": null,
            "top": null,
            "visibility": null,
            "width": null
          }
        },
        "0921c8a28b754ca5b41ff04cca1df396": {
          "model_module": "@jupyter-widgets/controls",
          "model_name": "DescriptionStyleModel",
          "model_module_version": "1.5.0",
          "state": {
            "_model_module": "@jupyter-widgets/controls",
            "_model_module_version": "1.5.0",
            "_model_name": "DescriptionStyleModel",
            "_view_count": null,
            "_view_module": "@jupyter-widgets/base",
            "_view_module_version": "1.2.0",
            "_view_name": "StyleView",
            "description_width": ""
          }
        },
        "8ee2eaee672642e48094bf22bb9016ac": {
          "model_module": "@jupyter-widgets/base",
          "model_name": "LayoutModel",
          "model_module_version": "1.2.0",
          "state": {
            "_model_module": "@jupyter-widgets/base",
            "_model_module_version": "1.2.0",
            "_model_name": "LayoutModel",
            "_view_count": null,
            "_view_module": "@jupyter-widgets/base",
            "_view_module_version": "1.2.0",
            "_view_name": "LayoutView",
            "align_content": null,
            "align_items": null,
            "align_self": null,
            "border": null,
            "bottom": null,
            "display": null,
            "flex": null,
            "flex_flow": null,
            "grid_area": null,
            "grid_auto_columns": null,
            "grid_auto_flow": null,
            "grid_auto_rows": null,
            "grid_column": null,
            "grid_gap": null,
            "grid_row": null,
            "grid_template_areas": null,
            "grid_template_columns": null,
            "grid_template_rows": null,
            "height": null,
            "justify_content": null,
            "justify_items": null,
            "left": null,
            "margin": null,
            "max_height": null,
            "max_width": null,
            "min_height": null,
            "min_width": null,
            "object_fit": null,
            "object_position": null,
            "order": null,
            "overflow": null,
            "overflow_x": null,
            "overflow_y": null,
            "padding": null,
            "right": null,
            "top": null,
            "visibility": null,
            "width": null
          }
        },
        "5ffd70121ead41d3916d90b651f8bb5f": {
          "model_module": "@jupyter-widgets/controls",
          "model_name": "ProgressStyleModel",
          "model_module_version": "1.5.0",
          "state": {
            "_model_module": "@jupyter-widgets/controls",
            "_model_module_version": "1.5.0",
            "_model_name": "ProgressStyleModel",
            "_view_count": null,
            "_view_module": "@jupyter-widgets/base",
            "_view_module_version": "1.2.0",
            "_view_name": "StyleView",
            "bar_color": null,
            "description_width": ""
          }
        },
        "96cbc13272e940b693173aaa32b4b62e": {
          "model_module": "@jupyter-widgets/controls",
          "model_name": "VBoxModel",
          "model_module_version": "1.5.0",
          "state": {
            "_dom_classes": [],
            "_model_module": "@jupyter-widgets/controls",
            "_model_module_version": "1.5.0",
            "_model_name": "VBoxModel",
            "_view_count": null,
            "_view_module": "@jupyter-widgets/controls",
            "_view_module_version": "1.5.0",
            "_view_name": "VBoxView",
            "box_style": "",
            "children": [
              "IPY_MODEL_a3c5996f15384cf59624de80d60e67a4",
              "IPY_MODEL_fbe0442803774d0d8b49919dc209a7f4"
            ],
            "layout": "IPY_MODEL_6c1546e64cd943ed81c913352c4d87f8"
          }
        },
        "a3c5996f15384cf59624de80d60e67a4": {
          "model_module": "@jupyter-widgets/controls",
          "model_name": "LabelModel",
          "model_module_version": "1.5.0",
          "state": {
            "_dom_classes": [],
            "_model_module": "@jupyter-widgets/controls",
            "_model_module_version": "1.5.0",
            "_model_name": "LabelModel",
            "_view_count": null,
            "_view_module": "@jupyter-widgets/controls",
            "_view_module_version": "1.5.0",
            "_view_name": "LabelView",
            "description": "",
            "description_tooltip": null,
            "layout": "IPY_MODEL_683880a8f0cf4d0e810e205b471c8ebb",
            "placeholder": "​",
            "style": "IPY_MODEL_a67a3a96efd64b7fbfe90bf7e809c590",
            "value": "0.013 MB of 0.013 MB uploaded (0.000 MB deduped)\r"
          }
        },
        "fbe0442803774d0d8b49919dc209a7f4": {
          "model_module": "@jupyter-widgets/controls",
          "model_name": "FloatProgressModel",
          "model_module_version": "1.5.0",
          "state": {
            "_dom_classes": [],
            "_model_module": "@jupyter-widgets/controls",
            "_model_module_version": "1.5.0",
            "_model_name": "FloatProgressModel",
            "_view_count": null,
            "_view_module": "@jupyter-widgets/controls",
            "_view_module_version": "1.5.0",
            "_view_name": "ProgressView",
            "bar_style": "",
            "description": "",
            "description_tooltip": null,
            "layout": "IPY_MODEL_a87bca1bd7f844989eed5d74aa7ba734",
            "max": 1,
            "min": 0,
            "orientation": "horizontal",
            "style": "IPY_MODEL_99d0632090974ef7a0cadc362bca08db",
            "value": 1
          }
        },
        "6c1546e64cd943ed81c913352c4d87f8": {
          "model_module": "@jupyter-widgets/base",
          "model_name": "LayoutModel",
          "model_module_version": "1.2.0",
          "state": {
            "_model_module": "@jupyter-widgets/base",
            "_model_module_version": "1.2.0",
            "_model_name": "LayoutModel",
            "_view_count": null,
            "_view_module": "@jupyter-widgets/base",
            "_view_module_version": "1.2.0",
            "_view_name": "LayoutView",
            "align_content": null,
            "align_items": null,
            "align_self": null,
            "border": null,
            "bottom": null,
            "display": null,
            "flex": null,
            "flex_flow": null,
            "grid_area": null,
            "grid_auto_columns": null,
            "grid_auto_flow": null,
            "grid_auto_rows": null,
            "grid_column": null,
            "grid_gap": null,
            "grid_row": null,
            "grid_template_areas": null,
            "grid_template_columns": null,
            "grid_template_rows": null,
            "height": null,
            "justify_content": null,
            "justify_items": null,
            "left": null,
            "margin": null,
            "max_height": null,
            "max_width": null,
            "min_height": null,
            "min_width": null,
            "object_fit": null,
            "object_position": null,
            "order": null,
            "overflow": null,
            "overflow_x": null,
            "overflow_y": null,
            "padding": null,
            "right": null,
            "top": null,
            "visibility": null,
            "width": null
          }
        },
        "683880a8f0cf4d0e810e205b471c8ebb": {
          "model_module": "@jupyter-widgets/base",
          "model_name": "LayoutModel",
          "model_module_version": "1.2.0",
          "state": {
            "_model_module": "@jupyter-widgets/base",
            "_model_module_version": "1.2.0",
            "_model_name": "LayoutModel",
            "_view_count": null,
            "_view_module": "@jupyter-widgets/base",
            "_view_module_version": "1.2.0",
            "_view_name": "LayoutView",
            "align_content": null,
            "align_items": null,
            "align_self": null,
            "border": null,
            "bottom": null,
            "display": null,
            "flex": null,
            "flex_flow": null,
            "grid_area": null,
            "grid_auto_columns": null,
            "grid_auto_flow": null,
            "grid_auto_rows": null,
            "grid_column": null,
            "grid_gap": null,
            "grid_row": null,
            "grid_template_areas": null,
            "grid_template_columns": null,
            "grid_template_rows": null,
            "height": null,
            "justify_content": null,
            "justify_items": null,
            "left": null,
            "margin": null,
            "max_height": null,
            "max_width": null,
            "min_height": null,
            "min_width": null,
            "object_fit": null,
            "object_position": null,
            "order": null,
            "overflow": null,
            "overflow_x": null,
            "overflow_y": null,
            "padding": null,
            "right": null,
            "top": null,
            "visibility": null,
            "width": null
          }
        },
        "a67a3a96efd64b7fbfe90bf7e809c590": {
          "model_module": "@jupyter-widgets/controls",
          "model_name": "DescriptionStyleModel",
          "model_module_version": "1.5.0",
          "state": {
            "_model_module": "@jupyter-widgets/controls",
            "_model_module_version": "1.5.0",
            "_model_name": "DescriptionStyleModel",
            "_view_count": null,
            "_view_module": "@jupyter-widgets/base",
            "_view_module_version": "1.2.0",
            "_view_name": "StyleView",
            "description_width": ""
          }
        },
        "a87bca1bd7f844989eed5d74aa7ba734": {
          "model_module": "@jupyter-widgets/base",
          "model_name": "LayoutModel",
          "model_module_version": "1.2.0",
          "state": {
            "_model_module": "@jupyter-widgets/base",
            "_model_module_version": "1.2.0",
            "_model_name": "LayoutModel",
            "_view_count": null,
            "_view_module": "@jupyter-widgets/base",
            "_view_module_version": "1.2.0",
            "_view_name": "LayoutView",
            "align_content": null,
            "align_items": null,
            "align_self": null,
            "border": null,
            "bottom": null,
            "display": null,
            "flex": null,
            "flex_flow": null,
            "grid_area": null,
            "grid_auto_columns": null,
            "grid_auto_flow": null,
            "grid_auto_rows": null,
            "grid_column": null,
            "grid_gap": null,
            "grid_row": null,
            "grid_template_areas": null,
            "grid_template_columns": null,
            "grid_template_rows": null,
            "height": null,
            "justify_content": null,
            "justify_items": null,
            "left": null,
            "margin": null,
            "max_height": null,
            "max_width": null,
            "min_height": null,
            "min_width": null,
            "object_fit": null,
            "object_position": null,
            "order": null,
            "overflow": null,
            "overflow_x": null,
            "overflow_y": null,
            "padding": null,
            "right": null,
            "top": null,
            "visibility": null,
            "width": null
          }
        },
        "99d0632090974ef7a0cadc362bca08db": {
          "model_module": "@jupyter-widgets/controls",
          "model_name": "ProgressStyleModel",
          "model_module_version": "1.5.0",
          "state": {
            "_model_module": "@jupyter-widgets/controls",
            "_model_module_version": "1.5.0",
            "_model_name": "ProgressStyleModel",
            "_view_count": null,
            "_view_module": "@jupyter-widgets/base",
            "_view_module_version": "1.2.0",
            "_view_name": "StyleView",
            "bar_color": null,
            "description_width": ""
          }
        },
        "9f9b7bc9555047baa39b8ee95aa7fa4a": {
          "model_module": "@jupyter-widgets/controls",
          "model_name": "VBoxModel",
          "model_module_version": "1.5.0",
          "state": {
            "_dom_classes": [],
            "_model_module": "@jupyter-widgets/controls",
            "_model_module_version": "1.5.0",
            "_model_name": "VBoxModel",
            "_view_count": null,
            "_view_module": "@jupyter-widgets/controls",
            "_view_module_version": "1.5.0",
            "_view_name": "VBoxView",
            "box_style": "",
            "children": [
              "IPY_MODEL_980667157a154925af2bf0ee0fdaaa90",
              "IPY_MODEL_6622c909f80848a7ad541cf2c60ef1a0"
            ],
            "layout": "IPY_MODEL_e8760b5f481e4846a6d1e925ac0cb148"
          }
        },
        "980667157a154925af2bf0ee0fdaaa90": {
          "model_module": "@jupyter-widgets/controls",
          "model_name": "LabelModel",
          "model_module_version": "1.5.0",
          "state": {
            "_dom_classes": [],
            "_model_module": "@jupyter-widgets/controls",
            "_model_module_version": "1.5.0",
            "_model_name": "LabelModel",
            "_view_count": null,
            "_view_module": "@jupyter-widgets/controls",
            "_view_module_version": "1.5.0",
            "_view_name": "LabelView",
            "description": "",
            "description_tooltip": null,
            "layout": "IPY_MODEL_58a1e074c8714a51857a0619a00e5dea",
            "placeholder": "​",
            "style": "IPY_MODEL_e88e3a82f0b14ff093fdcda59240fc93",
            "value": "0.013 MB of 0.013 MB uploaded (0.000 MB deduped)\r"
          }
        },
        "6622c909f80848a7ad541cf2c60ef1a0": {
          "model_module": "@jupyter-widgets/controls",
          "model_name": "FloatProgressModel",
          "model_module_version": "1.5.0",
          "state": {
            "_dom_classes": [],
            "_model_module": "@jupyter-widgets/controls",
            "_model_module_version": "1.5.0",
            "_model_name": "FloatProgressModel",
            "_view_count": null,
            "_view_module": "@jupyter-widgets/controls",
            "_view_module_version": "1.5.0",
            "_view_name": "ProgressView",
            "bar_style": "",
            "description": "",
            "description_tooltip": null,
            "layout": "IPY_MODEL_010d5a757e3d4c03830023404b2ccbe2",
            "max": 1,
            "min": 0,
            "orientation": "horizontal",
            "style": "IPY_MODEL_9af31ff4e6644ef991813221a5c5955b",
            "value": 1
          }
        },
        "e8760b5f481e4846a6d1e925ac0cb148": {
          "model_module": "@jupyter-widgets/base",
          "model_name": "LayoutModel",
          "model_module_version": "1.2.0",
          "state": {
            "_model_module": "@jupyter-widgets/base",
            "_model_module_version": "1.2.0",
            "_model_name": "LayoutModel",
            "_view_count": null,
            "_view_module": "@jupyter-widgets/base",
            "_view_module_version": "1.2.0",
            "_view_name": "LayoutView",
            "align_content": null,
            "align_items": null,
            "align_self": null,
            "border": null,
            "bottom": null,
            "display": null,
            "flex": null,
            "flex_flow": null,
            "grid_area": null,
            "grid_auto_columns": null,
            "grid_auto_flow": null,
            "grid_auto_rows": null,
            "grid_column": null,
            "grid_gap": null,
            "grid_row": null,
            "grid_template_areas": null,
            "grid_template_columns": null,
            "grid_template_rows": null,
            "height": null,
            "justify_content": null,
            "justify_items": null,
            "left": null,
            "margin": null,
            "max_height": null,
            "max_width": null,
            "min_height": null,
            "min_width": null,
            "object_fit": null,
            "object_position": null,
            "order": null,
            "overflow": null,
            "overflow_x": null,
            "overflow_y": null,
            "padding": null,
            "right": null,
            "top": null,
            "visibility": null,
            "width": null
          }
        },
        "58a1e074c8714a51857a0619a00e5dea": {
          "model_module": "@jupyter-widgets/base",
          "model_name": "LayoutModel",
          "model_module_version": "1.2.0",
          "state": {
            "_model_module": "@jupyter-widgets/base",
            "_model_module_version": "1.2.0",
            "_model_name": "LayoutModel",
            "_view_count": null,
            "_view_module": "@jupyter-widgets/base",
            "_view_module_version": "1.2.0",
            "_view_name": "LayoutView",
            "align_content": null,
            "align_items": null,
            "align_self": null,
            "border": null,
            "bottom": null,
            "display": null,
            "flex": null,
            "flex_flow": null,
            "grid_area": null,
            "grid_auto_columns": null,
            "grid_auto_flow": null,
            "grid_auto_rows": null,
            "grid_column": null,
            "grid_gap": null,
            "grid_row": null,
            "grid_template_areas": null,
            "grid_template_columns": null,
            "grid_template_rows": null,
            "height": null,
            "justify_content": null,
            "justify_items": null,
            "left": null,
            "margin": null,
            "max_height": null,
            "max_width": null,
            "min_height": null,
            "min_width": null,
            "object_fit": null,
            "object_position": null,
            "order": null,
            "overflow": null,
            "overflow_x": null,
            "overflow_y": null,
            "padding": null,
            "right": null,
            "top": null,
            "visibility": null,
            "width": null
          }
        },
        "e88e3a82f0b14ff093fdcda59240fc93": {
          "model_module": "@jupyter-widgets/controls",
          "model_name": "DescriptionStyleModel",
          "model_module_version": "1.5.0",
          "state": {
            "_model_module": "@jupyter-widgets/controls",
            "_model_module_version": "1.5.0",
            "_model_name": "DescriptionStyleModel",
            "_view_count": null,
            "_view_module": "@jupyter-widgets/base",
            "_view_module_version": "1.2.0",
            "_view_name": "StyleView",
            "description_width": ""
          }
        },
        "010d5a757e3d4c03830023404b2ccbe2": {
          "model_module": "@jupyter-widgets/base",
          "model_name": "LayoutModel",
          "model_module_version": "1.2.0",
          "state": {
            "_model_module": "@jupyter-widgets/base",
            "_model_module_version": "1.2.0",
            "_model_name": "LayoutModel",
            "_view_count": null,
            "_view_module": "@jupyter-widgets/base",
            "_view_module_version": "1.2.0",
            "_view_name": "LayoutView",
            "align_content": null,
            "align_items": null,
            "align_self": null,
            "border": null,
            "bottom": null,
            "display": null,
            "flex": null,
            "flex_flow": null,
            "grid_area": null,
            "grid_auto_columns": null,
            "grid_auto_flow": null,
            "grid_auto_rows": null,
            "grid_column": null,
            "grid_gap": null,
            "grid_row": null,
            "grid_template_areas": null,
            "grid_template_columns": null,
            "grid_template_rows": null,
            "height": null,
            "justify_content": null,
            "justify_items": null,
            "left": null,
            "margin": null,
            "max_height": null,
            "max_width": null,
            "min_height": null,
            "min_width": null,
            "object_fit": null,
            "object_position": null,
            "order": null,
            "overflow": null,
            "overflow_x": null,
            "overflow_y": null,
            "padding": null,
            "right": null,
            "top": null,
            "visibility": null,
            "width": null
          }
        },
        "9af31ff4e6644ef991813221a5c5955b": {
          "model_module": "@jupyter-widgets/controls",
          "model_name": "ProgressStyleModel",
          "model_module_version": "1.5.0",
          "state": {
            "_model_module": "@jupyter-widgets/controls",
            "_model_module_version": "1.5.0",
            "_model_name": "ProgressStyleModel",
            "_view_count": null,
            "_view_module": "@jupyter-widgets/base",
            "_view_module_version": "1.2.0",
            "_view_name": "StyleView",
            "bar_color": null,
            "description_width": ""
          }
        },
        "90c0538a764a4046b6120d7f073c0e98": {
          "model_module": "@jupyter-widgets/controls",
          "model_name": "VBoxModel",
          "model_module_version": "1.5.0",
          "state": {
            "_dom_classes": [],
            "_model_module": "@jupyter-widgets/controls",
            "_model_module_version": "1.5.0",
            "_model_name": "VBoxModel",
            "_view_count": null,
            "_view_module": "@jupyter-widgets/controls",
            "_view_module_version": "1.5.0",
            "_view_name": "VBoxView",
            "box_style": "",
            "children": [
              "IPY_MODEL_3fe8b21965ef4b0fb68a39dd34bd7f4d",
              "IPY_MODEL_6a1e4f86c40c4477bb584188349584d9"
            ],
            "layout": "IPY_MODEL_fe06798f801444cfae0c2be599ab4d0a"
          }
        },
        "3fe8b21965ef4b0fb68a39dd34bd7f4d": {
          "model_module": "@jupyter-widgets/controls",
          "model_name": "LabelModel",
          "model_module_version": "1.5.0",
          "state": {
            "_dom_classes": [],
            "_model_module": "@jupyter-widgets/controls",
            "_model_module_version": "1.5.0",
            "_model_name": "LabelModel",
            "_view_count": null,
            "_view_module": "@jupyter-widgets/controls",
            "_view_module_version": "1.5.0",
            "_view_name": "LabelView",
            "description": "",
            "description_tooltip": null,
            "layout": "IPY_MODEL_1c7873a01cdf455f8558a731a4239cd0",
            "placeholder": "​",
            "style": "IPY_MODEL_495e16a7323f419b83bc34b9f499cd23",
            "value": "0.013 MB of 0.013 MB uploaded (0.000 MB deduped)\r"
          }
        },
        "6a1e4f86c40c4477bb584188349584d9": {
          "model_module": "@jupyter-widgets/controls",
          "model_name": "FloatProgressModel",
          "model_module_version": "1.5.0",
          "state": {
            "_dom_classes": [],
            "_model_module": "@jupyter-widgets/controls",
            "_model_module_version": "1.5.0",
            "_model_name": "FloatProgressModel",
            "_view_count": null,
            "_view_module": "@jupyter-widgets/controls",
            "_view_module_version": "1.5.0",
            "_view_name": "ProgressView",
            "bar_style": "",
            "description": "",
            "description_tooltip": null,
            "layout": "IPY_MODEL_cc6b06a030ea457a9ac25f312b8d68ee",
            "max": 1,
            "min": 0,
            "orientation": "horizontal",
            "style": "IPY_MODEL_9489da262b934a8e8a28c299e812bd39",
            "value": 1
          }
        },
        "fe06798f801444cfae0c2be599ab4d0a": {
          "model_module": "@jupyter-widgets/base",
          "model_name": "LayoutModel",
          "model_module_version": "1.2.0",
          "state": {
            "_model_module": "@jupyter-widgets/base",
            "_model_module_version": "1.2.0",
            "_model_name": "LayoutModel",
            "_view_count": null,
            "_view_module": "@jupyter-widgets/base",
            "_view_module_version": "1.2.0",
            "_view_name": "LayoutView",
            "align_content": null,
            "align_items": null,
            "align_self": null,
            "border": null,
            "bottom": null,
            "display": null,
            "flex": null,
            "flex_flow": null,
            "grid_area": null,
            "grid_auto_columns": null,
            "grid_auto_flow": null,
            "grid_auto_rows": null,
            "grid_column": null,
            "grid_gap": null,
            "grid_row": null,
            "grid_template_areas": null,
            "grid_template_columns": null,
            "grid_template_rows": null,
            "height": null,
            "justify_content": null,
            "justify_items": null,
            "left": null,
            "margin": null,
            "max_height": null,
            "max_width": null,
            "min_height": null,
            "min_width": null,
            "object_fit": null,
            "object_position": null,
            "order": null,
            "overflow": null,
            "overflow_x": null,
            "overflow_y": null,
            "padding": null,
            "right": null,
            "top": null,
            "visibility": null,
            "width": null
          }
        },
        "1c7873a01cdf455f8558a731a4239cd0": {
          "model_module": "@jupyter-widgets/base",
          "model_name": "LayoutModel",
          "model_module_version": "1.2.0",
          "state": {
            "_model_module": "@jupyter-widgets/base",
            "_model_module_version": "1.2.0",
            "_model_name": "LayoutModel",
            "_view_count": null,
            "_view_module": "@jupyter-widgets/base",
            "_view_module_version": "1.2.0",
            "_view_name": "LayoutView",
            "align_content": null,
            "align_items": null,
            "align_self": null,
            "border": null,
            "bottom": null,
            "display": null,
            "flex": null,
            "flex_flow": null,
            "grid_area": null,
            "grid_auto_columns": null,
            "grid_auto_flow": null,
            "grid_auto_rows": null,
            "grid_column": null,
            "grid_gap": null,
            "grid_row": null,
            "grid_template_areas": null,
            "grid_template_columns": null,
            "grid_template_rows": null,
            "height": null,
            "justify_content": null,
            "justify_items": null,
            "left": null,
            "margin": null,
            "max_height": null,
            "max_width": null,
            "min_height": null,
            "min_width": null,
            "object_fit": null,
            "object_position": null,
            "order": null,
            "overflow": null,
            "overflow_x": null,
            "overflow_y": null,
            "padding": null,
            "right": null,
            "top": null,
            "visibility": null,
            "width": null
          }
        },
        "495e16a7323f419b83bc34b9f499cd23": {
          "model_module": "@jupyter-widgets/controls",
          "model_name": "DescriptionStyleModel",
          "model_module_version": "1.5.0",
          "state": {
            "_model_module": "@jupyter-widgets/controls",
            "_model_module_version": "1.5.0",
            "_model_name": "DescriptionStyleModel",
            "_view_count": null,
            "_view_module": "@jupyter-widgets/base",
            "_view_module_version": "1.2.0",
            "_view_name": "StyleView",
            "description_width": ""
          }
        },
        "cc6b06a030ea457a9ac25f312b8d68ee": {
          "model_module": "@jupyter-widgets/base",
          "model_name": "LayoutModel",
          "model_module_version": "1.2.0",
          "state": {
            "_model_module": "@jupyter-widgets/base",
            "_model_module_version": "1.2.0",
            "_model_name": "LayoutModel",
            "_view_count": null,
            "_view_module": "@jupyter-widgets/base",
            "_view_module_version": "1.2.0",
            "_view_name": "LayoutView",
            "align_content": null,
            "align_items": null,
            "align_self": null,
            "border": null,
            "bottom": null,
            "display": null,
            "flex": null,
            "flex_flow": null,
            "grid_area": null,
            "grid_auto_columns": null,
            "grid_auto_flow": null,
            "grid_auto_rows": null,
            "grid_column": null,
            "grid_gap": null,
            "grid_row": null,
            "grid_template_areas": null,
            "grid_template_columns": null,
            "grid_template_rows": null,
            "height": null,
            "justify_content": null,
            "justify_items": null,
            "left": null,
            "margin": null,
            "max_height": null,
            "max_width": null,
            "min_height": null,
            "min_width": null,
            "object_fit": null,
            "object_position": null,
            "order": null,
            "overflow": null,
            "overflow_x": null,
            "overflow_y": null,
            "padding": null,
            "right": null,
            "top": null,
            "visibility": null,
            "width": null
          }
        },
        "9489da262b934a8e8a28c299e812bd39": {
          "model_module": "@jupyter-widgets/controls",
          "model_name": "ProgressStyleModel",
          "model_module_version": "1.5.0",
          "state": {
            "_model_module": "@jupyter-widgets/controls",
            "_model_module_version": "1.5.0",
            "_model_name": "ProgressStyleModel",
            "_view_count": null,
            "_view_module": "@jupyter-widgets/base",
            "_view_module_version": "1.2.0",
            "_view_name": "StyleView",
            "bar_color": null,
            "description_width": ""
          }
        }
      }
    }
  },
  "cells": [
    {
      "cell_type": "markdown",
      "source": [
        "#**Important Installs**\n",
        "\n",
        "---\n",
        "\n"
      ],
      "metadata": {
        "id": "ZrfqXMtCCN5C"
      }
    },
    {
      "cell_type": "code",
      "source": [
        "!pip install numpy\n",
        "!pip install tensorflow-datasets"
      ],
      "metadata": {
        "colab": {
          "base_uri": "https://localhost:8080/"
        },
        "id": "aA0BCC4-pJUZ",
        "outputId": "b4c47b4b-6452-4c2f-ebf9-0b135d6a33ad"
      },
      "execution_count": null,
      "outputs": [
        {
          "output_type": "stream",
          "name": "stdout",
          "text": [
            "Looking in indexes: https://pypi.org/simple, https://us-python.pkg.dev/colab-wheels/public/simple/\n",
            "Requirement already satisfied: numpy in /usr/local/lib/python3.7/dist-packages (1.21.6)\n",
            "Looking in indexes: https://pypi.org/simple, https://us-python.pkg.dev/colab-wheels/public/simple/\n",
            "Requirement already satisfied: tensorflow-datasets in /usr/local/lib/python3.7/dist-packages (4.6.0)\n",
            "Requirement already satisfied: termcolor in /usr/local/lib/python3.7/dist-packages (from tensorflow-datasets) (1.1.0)\n",
            "Requirement already satisfied: six in /usr/local/lib/python3.7/dist-packages (from tensorflow-datasets) (1.15.0)\n",
            "Requirement already satisfied: importlib-resources in /usr/local/lib/python3.7/dist-packages (from tensorflow-datasets) (5.9.0)\n",
            "Requirement already satisfied: tqdm in /usr/local/lib/python3.7/dist-packages (from tensorflow-datasets) (4.64.1)\n",
            "Requirement already satisfied: toml in /usr/local/lib/python3.7/dist-packages (from tensorflow-datasets) (0.10.2)\n",
            "Requirement already satisfied: typing-extensions in /usr/local/lib/python3.7/dist-packages (from tensorflow-datasets) (4.1.1)\n",
            "Requirement already satisfied: requests>=2.19.0 in /usr/local/lib/python3.7/dist-packages (from tensorflow-datasets) (2.23.0)\n",
            "Requirement already satisfied: tensorflow-metadata in /usr/local/lib/python3.7/dist-packages (from tensorflow-datasets) (1.10.0)\n",
            "Requirement already satisfied: dill in /usr/local/lib/python3.7/dist-packages (from tensorflow-datasets) (0.3.5.1)\n",
            "Requirement already satisfied: promise in /usr/local/lib/python3.7/dist-packages (from tensorflow-datasets) (2.3)\n",
            "Requirement already satisfied: protobuf>=3.12.2 in /usr/local/lib/python3.7/dist-packages (from tensorflow-datasets) (3.17.3)\n",
            "Requirement already satisfied: etils[epath] in /usr/local/lib/python3.7/dist-packages (from tensorflow-datasets) (0.7.1)\n",
            "Requirement already satisfied: absl-py in /usr/local/lib/python3.7/dist-packages (from tensorflow-datasets) (1.2.0)\n",
            "Requirement already satisfied: numpy in /usr/local/lib/python3.7/dist-packages (from tensorflow-datasets) (1.21.6)\n",
            "Requirement already satisfied: urllib3!=1.25.0,!=1.25.1,<1.26,>=1.21.1 in /usr/local/lib/python3.7/dist-packages (from requests>=2.19.0->tensorflow-datasets) (1.24.3)\n",
            "Requirement already satisfied: idna<3,>=2.5 in /usr/local/lib/python3.7/dist-packages (from requests>=2.19.0->tensorflow-datasets) (2.10)\n",
            "Requirement already satisfied: chardet<4,>=3.0.2 in /usr/local/lib/python3.7/dist-packages (from requests>=2.19.0->tensorflow-datasets) (3.0.4)\n",
            "Requirement already satisfied: certifi>=2017.4.17 in /usr/local/lib/python3.7/dist-packages (from requests>=2.19.0->tensorflow-datasets) (2022.6.15)\n",
            "Requirement already satisfied: zipp in /usr/local/lib/python3.7/dist-packages (from etils[epath]->tensorflow-datasets) (3.8.1)\n",
            "Requirement already satisfied: googleapis-common-protos<2,>=1.52.0 in /usr/local/lib/python3.7/dist-packages (from tensorflow-metadata->tensorflow-datasets) (1.56.4)\n"
          ]
        }
      ]
    },
    {
      "cell_type": "markdown",
      "source": [
        "#**See tensorflow datasets**\n",
        "\n",
        "---\n"
      ],
      "metadata": {
        "id": "031JTdMPChfM"
      }
    },
    {
      "cell_type": "code",
      "source": [
        "!tfds.list_builders()"
      ],
      "metadata": {
        "colab": {
          "base_uri": "https://localhost:8080/"
        },
        "id": "OFCic8hvP6lC",
        "outputId": "ca8489a8-49b1-40b5-c730-46773b873a31"
      },
      "execution_count": null,
      "outputs": [
        {
          "output_type": "stream",
          "name": "stdout",
          "text": [
            "/bin/bash: -c: line 1: syntax error: unexpected end of file\n"
          ]
        }
      ]
    },
    {
      "cell_type": "markdown",
      "source": [
        "#**Setting up Weights and Biases**\n",
        "\n",
        "---\n",
        "\n"
      ],
      "metadata": {
        "id": "Sn9tFae6CwcO"
      }
    },
    {
      "cell_type": "code",
      "source": [
        "# Weights and Biases for experiment tracking\n",
        "# For this part you will need to make a wandb account so you can login so the data can be sent to the repository for graphic depiction\n",
        "!pip install wandb\n",
        "\n",
        "!wandb login\n",
        "import wandb"
      ],
      "metadata": {
        "id": "oX2a2f-Pv9-X",
        "colab": {
          "base_uri": "https://localhost:8080/"
        },
        "outputId": "ee4d587b-7fdb-4913-e17e-59f6ccb9cfa6"
      },
      "execution_count": null,
      "outputs": [
        {
          "output_type": "stream",
          "name": "stdout",
          "text": [
            "Looking in indexes: https://pypi.org/simple, https://us-python.pkg.dev/colab-wheels/public/simple/\n",
            "Requirement already satisfied: wandb in /usr/local/lib/python3.7/dist-packages (0.13.3)\n",
            "Requirement already satisfied: protobuf<4.0dev,>=3.12.0 in /usr/local/lib/python3.7/dist-packages (from wandb) (3.17.3)\n",
            "Requirement already satisfied: sentry-sdk>=1.0.0 in /usr/local/lib/python3.7/dist-packages (from wandb) (1.9.0)\n",
            "Requirement already satisfied: setproctitle in /usr/local/lib/python3.7/dist-packages (from wandb) (1.3.2)\n",
            "Requirement already satisfied: promise<3,>=2.0 in /usr/local/lib/python3.7/dist-packages (from wandb) (2.3)\n",
            "Requirement already satisfied: requests<3,>=2.0.0 in /usr/local/lib/python3.7/dist-packages (from wandb) (2.23.0)\n",
            "Requirement already satisfied: six>=1.13.0 in /usr/local/lib/python3.7/dist-packages (from wandb) (1.15.0)\n",
            "Requirement already satisfied: docker-pycreds>=0.4.0 in /usr/local/lib/python3.7/dist-packages (from wandb) (0.4.0)\n",
            "Requirement already satisfied: Click!=8.0.0,>=7.0 in /usr/local/lib/python3.7/dist-packages (from wandb) (7.1.2)\n",
            "Requirement already satisfied: pathtools in /usr/local/lib/python3.7/dist-packages (from wandb) (0.1.2)\n",
            "Requirement already satisfied: GitPython>=1.0.0 in /usr/local/lib/python3.7/dist-packages (from wandb) (3.1.27)\n",
            "Requirement already satisfied: PyYAML in /usr/local/lib/python3.7/dist-packages (from wandb) (6.0)\n",
            "Requirement already satisfied: setuptools in /usr/local/lib/python3.7/dist-packages (from wandb) (57.4.0)\n",
            "Requirement already satisfied: shortuuid>=0.5.0 in /usr/local/lib/python3.7/dist-packages (from wandb) (1.0.9)\n",
            "Requirement already satisfied: psutil>=5.0.0 in /usr/local/lib/python3.7/dist-packages (from wandb) (5.4.8)\n",
            "Requirement already satisfied: typing-extensions>=3.7.4.3 in /usr/local/lib/python3.7/dist-packages (from GitPython>=1.0.0->wandb) (4.1.1)\n",
            "Requirement already satisfied: gitdb<5,>=4.0.1 in /usr/local/lib/python3.7/dist-packages (from GitPython>=1.0.0->wandb) (4.0.9)\n",
            "Requirement already satisfied: smmap<6,>=3.0.1 in /usr/local/lib/python3.7/dist-packages (from gitdb<5,>=4.0.1->GitPython>=1.0.0->wandb) (5.0.0)\n",
            "Requirement already satisfied: idna<3,>=2.5 in /usr/local/lib/python3.7/dist-packages (from requests<3,>=2.0.0->wandb) (2.10)\n",
            "Requirement already satisfied: chardet<4,>=3.0.2 in /usr/local/lib/python3.7/dist-packages (from requests<3,>=2.0.0->wandb) (3.0.4)\n",
            "Requirement already satisfied: urllib3!=1.25.0,!=1.25.1,<1.26,>=1.21.1 in /usr/local/lib/python3.7/dist-packages (from requests<3,>=2.0.0->wandb) (1.24.3)\n",
            "Requirement already satisfied: certifi>=2017.4.17 in /usr/local/lib/python3.7/dist-packages (from requests<3,>=2.0.0->wandb) (2022.6.15)\n",
            "\u001b[34m\u001b[1mwandb\u001b[0m: Currently logged in as: \u001b[33mtechzx\u001b[0m. Use \u001b[1m`wandb login --relogin`\u001b[0m to force relogin\n"
          ]
        }
      ]
    },
    {
      "cell_type": "markdown",
      "source": [
        "#**Imports**"
      ],
      "metadata": {
        "id": "XfKk9qoRDJ-N"
      }
    },
    {
      "cell_type": "code",
      "execution_count": null,
      "metadata": {
        "id": "QIaj4Fqvv6Ql"
      },
      "outputs": [],
      "source": [
        "#imports\n",
        "import time\n",
        "`\n",
        "from wandb.keras import WandbCallback\n",
        "import tensorflow_datasets as tfds\n",
        "import pandas as pd\n",
        "import numpy as np"
      ]
    },
    {
      "cell_type": "markdown",
      "source": [
        "#**Loading Datasets**"
      ],
      "metadata": {
        "id": "Ze5Mjl_1DN3Q"
      }
    },
    {
      "cell_type": "code",
      "source": [
        "# Gather data and preprocess it\n",
        "# Uncomment each line depending the dataset you wanna train\n",
        "# For Mnist datasets there is no need to convert into grayscale \n",
        "#(X_train, y_train), (X_test, y_test) =keras.datasets.cifar10.load_data()\n",
        "(X_train, y_train), (X_test, y_test) = tf.keras.datasets.fashion_mnist.load_data()\n",
        "X_train, X_test = X_train / 255.0, X_test / 255.0"
      ],
      "metadata": {
        "id": "4tvLDVwVwBm5",
        "colab": {
          "base_uri": "https://localhost:8080/"
        },
        "outputId": "c0aba80c-3d42-47d6-ed0a-ae2e65bf3051"
      },
      "execution_count": null,
      "outputs": [
        {
          "output_type": "stream",
          "name": "stdout",
          "text": [
            "Downloading data from https://storage.googleapis.com/tensorflow/tf-keras-datasets/train-labels-idx1-ubyte.gz\n",
            "32768/29515 [=================================] - 0s 0us/step\n",
            "40960/29515 [=========================================] - 0s 0us/step\n",
            "Downloading data from https://storage.googleapis.com/tensorflow/tf-keras-datasets/train-images-idx3-ubyte.gz\n",
            "26427392/26421880 [==============================] - 0s 0us/step\n",
            "26435584/26421880 [==============================] - 0s 0us/step\n",
            "Downloading data from https://storage.googleapis.com/tensorflow/tf-keras-datasets/t10k-labels-idx1-ubyte.gz\n",
            "16384/5148 [===============================================================================================] - 0s 0us/step\n",
            "Downloading data from https://storage.googleapis.com/tensorflow/tf-keras-datasets/t10k-images-idx3-ubyte.gz\n",
            "4423680/4422102 [==============================] - 0s 0us/step\n",
            "4431872/4422102 [==============================] - 0s 0us/step\n"
          ]
        }
      ]
    },
    {
      "cell_type": "code",
      "source": [
        "#for cifar10 dataset\n",
        "#X_pretrain = X_train.reshape(X_train.shape[0], 32, 32, 3)\n",
        "#for fashion mnist dataset\n",
        "X_train = X_train.reshape(X_train.shape[0], 28, 28, 1)\n",
        "#X_test = X_test.reshape(X_test.shape[0], 32, 32, 3)\n"
      ],
      "metadata": {
        "id": "_7mBnLRfwEAb"
      },
      "execution_count": null,
      "outputs": []
    },
    {
      "cell_type": "markdown",
      "source": [
        "#**Covert to Grayscale (for RGB datasets)**"
      ],
      "metadata": {
        "id": "3kSLeFDeDXUt"
      }
    },
    {
      "cell_type": "code",
      "source": [
        "#for RGB datasets to be converted to grayscale\n",
        "X_train=[]\n",
        "for i in X_pretrain:\n",
        "    X_train.append( tf.image.rgb_to_grayscale(i).numpy())\n",
        "X_train = np.array(X_train)\n",
        "y_train = np.array(y_train)\n"
      ],
      "metadata": {
        "id": "fB7sHAobhdaN"
      },
      "execution_count": null,
      "outputs": []
    },
    {
      "cell_type": "code",
      "source": [
        "# print (np.shape(y_train))\n",
        "print(X_train[0])"
      ],
      "metadata": {
        "id": "BW-RtCdcjsCP"
      },
      "execution_count": null,
      "outputs": []
    },
    {
      "cell_type": "code",
      "source": [
        "#for cifar10 dataset\n",
        "#input_shape = (32, 32, 1)\n",
        "#for fashion mnist dataset\n",
        "input_shape = (28,28, 1)"
      ],
      "metadata": {
        "id": "EGNM9MQEwF_K"
      },
      "execution_count": null,
      "outputs": []
    },
    {
      "cell_type": "markdown",
      "source": [
        "#**Sigmoid** "
      ],
      "metadata": {
        "id": "90CTHIQBDhYb"
      }
    },
    {
      "cell_type": "code",
      "source": [
        "from keras.models import Sequential\n",
        "from keras.layers import Dense, Conv2D, Dropout, Flatten, MaxPooling2D\n",
        "from keras import initializers\n",
        "# Creating a Sequential Model and adding the layers\n",
        "model = Sequential()\n",
        "model.add(Conv2D(32, kernel_size=(3,3), activation='sigmoid', input_shape=input_shape))#default s=1\n",
        "model.add(MaxPooling2D(pool_size=(2, 2)))#default s=2\n",
        "model.add(Conv2D(64, kernel_size=(3,3), activation='sigmoid'))\n",
        "model.add(MaxPooling2D(pool_size=(2, 2)))\n",
        "model.add(Conv2D(64, kernel_size=(3,3), activation='sigmoid'))\n",
        "model.add(Flatten()) # Flattening the 3D arrays for fully connected layers\n",
        "model.add(Dense(132, activation='sigmoid'))#1st hideen layer\n",
        "model.add(Dropout(0.2))\n",
        "model.add(Dense(10,activation='softmax'))#output layer\n",
        "\n",
        "model.summary()\n",
        "wandb.init(project='Activation Functions Test C-30-2000 Fashion Mnist', id='sigmoid') # declaring  which wandb repository the data needs to be sent\n",
        "start = time.perf_counter()\n",
        "model.compile(optimizer='adam', \n",
        "              loss='sparse_categorical_crossentropy', \n",
        "              metrics=['accuracy']) #configures the model\n",
        "model.fit(x=X_train,y=y_train, epochs=30,steps_per_epoch=5000, callbacks=[WandbCallback()])\n",
        "elapsed = time.perf_counter() - start\n",
        "print('Elapsed %.3f seconds.' % elapsed)"
      ],
      "metadata": {
        "id": "XS6E3kifwKIv",
        "colab": {
          "base_uri": "https://localhost:8080/",
          "height": 1000,
          "referenced_widgets": [
            "e23c3e62d573405a8b4042ab85306aaa",
            "8e12d16496a44422a3f3bbe4a2936746",
            "a3a5687b542445e8a961a10af5301f52",
            "7d6c3b99de424eae82c618858ec2790c",
            "b52ae9b758be46d9bcc68755529f2b1b",
            "e19c4e27afbf46ba8d79ec1cb6d265eb",
            "f63ee4e8e5bb44c9b3c21a9b1e0351a8",
            "d6321c69b16d4f93abce2c64aeb23571"
          ]
        },
        "outputId": "8bbc4243-14c6-4d7f-ceab-409356f2e8fb"
      },
      "execution_count": null,
      "outputs": [
        {
          "output_type": "stream",
          "name": "stdout",
          "text": [
            "Model: \"sequential\"\n",
            "_________________________________________________________________\n",
            " Layer (type)                Output Shape              Param #   \n",
            "=================================================================\n",
            " conv2d (Conv2D)             (None, 26, 26, 32)        320       \n",
            "                                                                 \n",
            " max_pooling2d (MaxPooling2D  (None, 13, 13, 32)       0         \n",
            " )                                                               \n",
            "                                                                 \n",
            " conv2d_1 (Conv2D)           (None, 11, 11, 64)        18496     \n",
            "                                                                 \n",
            " max_pooling2d_1 (MaxPooling  (None, 5, 5, 64)         0         \n",
            " 2D)                                                             \n",
            "                                                                 \n",
            " conv2d_2 (Conv2D)           (None, 3, 3, 64)          36928     \n",
            "                                                                 \n",
            " flatten (Flatten)           (None, 576)               0         \n",
            "                                                                 \n",
            " dense (Dense)               (None, 132)               76164     \n",
            "                                                                 \n",
            " dropout (Dropout)           (None, 132)               0         \n",
            "                                                                 \n",
            " dense_1 (Dense)             (None, 10)                1330      \n",
            "                                                                 \n",
            "=================================================================\n",
            "Total params: 133,238\n",
            "Trainable params: 133,238\n",
            "Non-trainable params: 0\n",
            "_________________________________________________________________\n"
          ]
        },
        {
          "output_type": "display_data",
          "data": {
            "text/plain": [
              "<IPython.core.display.HTML object>"
            ],
            "text/html": [
              "Finishing last run (ID:Mish) before initializing another..."
            ]
          },
          "metadata": {}
        },
        {
          "output_type": "display_data",
          "data": {
            "text/plain": [
              "<IPython.core.display.HTML object>"
            ],
            "text/html": [
              "Waiting for W&B process to finish... <strong style=\"color:green\">(success).</strong>"
            ]
          },
          "metadata": {}
        },
        {
          "output_type": "display_data",
          "data": {
            "text/plain": [
              "VBox(children=(Label(value='0.002 MB of 0.002 MB uploaded (0.000 MB deduped)\\r'), FloatProgress(value=1.0, max…"
            ],
            "application/vnd.jupyter.widget-view+json": {
              "version_major": 2,
              "version_minor": 0,
              "model_id": "e23c3e62d573405a8b4042ab85306aaa"
            }
          },
          "metadata": {}
        },
        {
          "output_type": "display_data",
          "data": {
            "text/plain": [
              "<IPython.core.display.HTML object>"
            ],
            "text/html": [
              "<style>\n",
              "    table.wandb td:nth-child(1) { padding: 0 10px; text-align: left ; width: auto;} td:nth-child(2) {text-align: left ; width: 100%}\n",
              "    .wandb-row { display: flex; flex-direction: row; flex-wrap: wrap; justify-content: flex-start; width: 100% }\n",
              "    .wandb-col { display: flex; flex-direction: column; flex-basis: 100%; flex: 1; padding: 10px; }\n",
              "    </style>\n",
              "<div class=\"wandb-row\"><div class=\"wandb-col\"><h3>Run history:</h3><br/><table class=\"wandb\"><tr><td>accuracy</td><td>▁▃▄▄▅▅▅▆▆▆▆▇▇▇▇▇▇▇████████████</td></tr><tr><td>epoch</td><td>▁▁▁▂▂▂▂▃▃▃▃▄▄▄▄▅▅▅▅▆▆▆▆▇▇▇▇███</td></tr><tr><td>loss</td><td>█▆▅▅▄▄▄▃▃▃▃▂▂▂▂▂▂▂▁▁▁▁▁▁▁▁▁▁▁▁</td></tr></table><br/></div><div class=\"wandb-col\"><h3>Run summary:</h3><br/><table class=\"wandb\"><tr><td>GFLOPs</td><td>0.00416</td></tr><tr><td>accuracy</td><td>0.931</td></tr><tr><td>epoch</td><td>29</td></tr><tr><td>loss</td><td>0.19567</td></tr></table><br/></div></div>"
            ]
          },
          "metadata": {}
        },
        {
          "output_type": "display_data",
          "data": {
            "text/plain": [
              "<IPython.core.display.HTML object>"
            ],
            "text/html": [
              "Synced <strong style=\"color:#cdcd00\">Mish</strong>: <a href=\"https://wandb.ai/techzx/Activation%20Functions%20Test%20C-30-2000%20Cifar10/runs/Mish\" target=\"_blank\">https://wandb.ai/techzx/Activation%20Functions%20Test%20C-30-2000%20Cifar10/runs/Mish</a><br/>Synced 5 W&B file(s), 1 media file(s), 0 artifact file(s) and 0 other file(s)"
            ]
          },
          "metadata": {}
        },
        {
          "output_type": "display_data",
          "data": {
            "text/plain": [
              "<IPython.core.display.HTML object>"
            ],
            "text/html": [
              "Find logs at: <code>./wandb/run-20220927_221207-Mish/logs</code>"
            ]
          },
          "metadata": {}
        },
        {
          "output_type": "display_data",
          "data": {
            "text/plain": [
              "<IPython.core.display.HTML object>"
            ],
            "text/html": [
              "Successfully finished last run (ID:Mish). Initializing new run:<br/>"
            ]
          },
          "metadata": {}
        },
        {
          "output_type": "display_data",
          "data": {
            "text/plain": [
              "<IPython.core.display.HTML object>"
            ],
            "text/html": [
              "Tracking run with wandb version 0.13.3"
            ]
          },
          "metadata": {}
        },
        {
          "output_type": "display_data",
          "data": {
            "text/plain": [
              "<IPython.core.display.HTML object>"
            ],
            "text/html": [
              "Run data is saved locally in <code>/content/wandb/run-20220928_001025-sigmoid</code>"
            ]
          },
          "metadata": {}
        },
        {
          "output_type": "display_data",
          "data": {
            "text/plain": [
              "<IPython.core.display.HTML object>"
            ],
            "text/html": [
              "Syncing run <strong><a href=\"https://wandb.ai/techzx/Activation%20Functions%20Test%20C-30-2000%20Fashion%20Mnist/runs/sigmoid\" target=\"_blank\">sigmoid</a></strong> to <a href=\"https://wandb.ai/techzx/Activation%20Functions%20Test%20C-30-2000%20Fashion%20Mnist\" target=\"_blank\">Weights & Biases</a> (<a href=\"https://wandb.me/run\" target=\"_blank\">docs</a>)<br/>"
            ]
          },
          "metadata": {}
        },
        {
          "output_type": "stream",
          "name": "stdout",
          "text": [
            "Epoch 1/30\n",
            "5000/5000 [==============================] - 21s 4ms/step - loss: 0.7648 - accuracy: 0.7106\n",
            "Epoch 2/30\n",
            "5000/5000 [==============================] - 17s 3ms/step - loss: 0.4664 - accuracy: 0.8240\n",
            "Epoch 3/30\n",
            "5000/5000 [==============================] - 16s 3ms/step - loss: 0.3995 - accuracy: 0.8503\n",
            "Epoch 4/30\n",
            "5000/5000 [==============================] - 17s 3ms/step - loss: 0.3616 - accuracy: 0.8640\n",
            "Epoch 5/30\n",
            "5000/5000 [==============================] - 16s 3ms/step - loss: 0.3328 - accuracy: 0.8748\n",
            "Epoch 6/30\n",
            "5000/5000 [==============================] - 17s 3ms/step - loss: 0.3110 - accuracy: 0.8831\n",
            "Epoch 7/30\n",
            "5000/5000 [==============================] - 17s 3ms/step - loss: 0.2937 - accuracy: 0.8888\n",
            "Epoch 8/30\n",
            "5000/5000 [==============================] - 18s 4ms/step - loss: 0.2785 - accuracy: 0.8937\n",
            "Epoch 9/30\n",
            "5000/5000 [==============================] - 17s 3ms/step - loss: 0.2670 - accuracy: 0.9002\n",
            "Epoch 10/30\n",
            "5000/5000 [==============================] - 17s 3ms/step - loss: 0.2579 - accuracy: 0.9034\n",
            "Epoch 11/30\n",
            "5000/5000 [==============================] - 16s 3ms/step - loss: 0.2464 - accuracy: 0.9075\n",
            "Epoch 12/30\n",
            "5000/5000 [==============================] - 16s 3ms/step - loss: 0.2371 - accuracy: 0.9111\n",
            "Epoch 13/30\n",
            "5000/5000 [==============================] - 17s 3ms/step - loss: 0.2274 - accuracy: 0.9154\n",
            "Epoch 14/30\n",
            "5000/5000 [==============================] - 16s 3ms/step - loss: 0.2222 - accuracy: 0.9165\n",
            "Epoch 15/30\n",
            "5000/5000 [==============================] - 17s 3ms/step - loss: 0.2117 - accuracy: 0.9202\n",
            "Epoch 16/30\n",
            "5000/5000 [==============================] - 17s 3ms/step - loss: 0.2051 - accuracy: 0.9221\n",
            "Epoch 17/30\n",
            "5000/5000 [==============================] - 17s 3ms/step - loss: 0.1963 - accuracy: 0.9251\n",
            "Epoch 18/30\n",
            "5000/5000 [==============================] - 16s 3ms/step - loss: 0.1919 - accuracy: 0.9271\n",
            "Epoch 19/30\n",
            "5000/5000 [==============================] - 17s 3ms/step - loss: 0.1844 - accuracy: 0.9302\n",
            "Epoch 20/30\n",
            "5000/5000 [==============================] - 16s 3ms/step - loss: 0.1776 - accuracy: 0.9324\n",
            "Epoch 21/30\n",
            "5000/5000 [==============================] - 16s 3ms/step - loss: 0.1745 - accuracy: 0.9338\n",
            "Epoch 22/30\n",
            "5000/5000 [==============================] - 16s 3ms/step - loss: 0.1680 - accuracy: 0.9360\n",
            "Epoch 23/30\n",
            "5000/5000 [==============================] - 16s 3ms/step - loss: 0.1606 - accuracy: 0.9392\n",
            "Epoch 24/30\n",
            "5000/5000 [==============================] - 17s 3ms/step - loss: 0.1580 - accuracy: 0.9391\n",
            "Epoch 25/30\n",
            "5000/5000 [==============================] - 17s 3ms/step - loss: 0.1505 - accuracy: 0.9417\n",
            "Epoch 26/30\n",
            "5000/5000 [==============================] - 17s 3ms/step - loss: 0.1466 - accuracy: 0.9444\n",
            "Epoch 27/30\n",
            "5000/5000 [==============================] - 17s 3ms/step - loss: 0.1415 - accuracy: 0.9460\n",
            "Epoch 28/30\n",
            "5000/5000 [==============================] - 17s 3ms/step - loss: 0.1366 - accuracy: 0.9474\n",
            "Epoch 29/30\n",
            "5000/5000 [==============================] - 17s 3ms/step - loss: 0.1335 - accuracy: 0.9484\n",
            "Epoch 30/30\n",
            "5000/5000 [==============================] - 17s 3ms/step - loss: 0.1301 - accuracy: 0.9496\n",
            "Elapsed 562.755 seconds.\n"
          ]
        }
      ]
    },
    {
      "cell_type": "markdown",
      "source": [
        "#**RELU**"
      ],
      "metadata": {
        "id": "GWEh4VD2DyN6"
      }
    },
    {
      "cell_type": "code",
      "source": [
        "from keras.models import Sequential\n",
        "from keras.layers import Dense, Conv2D, Dropout, Flatten, MaxPooling2D\n",
        "# Creating a Sequential Model and adding the layers\n",
        "model1 = Sequential()\n",
        "model1.add(Conv2D(32, kernel_size=(3,3), activation='relu', input_shape=input_shape))#default s=1\n",
        "model1.add(MaxPooling2D(pool_size=(2, 2)))#default s=2\n",
        "model1.add(Conv2D(64, kernel_size=(3,3), activation='relu'))\n",
        "model1.add(MaxPooling2D(pool_size=(2, 2)))\n",
        "model1.add(Conv2D(64, kernel_size=(3,3), activation='relu'))\n",
        "model1.add(Flatten()) # Flattening the 3D arrays for fully connected layers\n",
        "model1.add(Dense(128, activation='relu'))#<---- 1st hideen layer\n",
        "model1.add(Dropout(0.2))\n",
        "model1.add(Dense(10,activation='softmax'))#<-----output layer\n",
        "\n",
        "wandb.init(project='Activation Functions Test C-30-2000 Fashion Mnist', id='relu') \n",
        "start = time.perf_counter()\n",
        "model1.compile(optimizer='adam', \n",
        "              loss='sparse_categorical_crossentropy', \n",
        "              metrics=['accuracy']) #configures the model\n",
        "model1.fit(x=X_train,y=y_train, epochs=30,steps_per_epoch=2000, callbacks=[WandbCallback()])\n",
        "elapsed = time.perf_counter() - start\n",
        "print('Elapsed %.3f seconds.' % elapsed)"
      ],
      "metadata": {
        "id": "BrHnKlmBwLaW",
        "colab": {
          "base_uri": "https://localhost:8080/",
          "height": 1000,
          "referenced_widgets": [
            "761f8d17ab064952893b20bd96b8e4be",
            "f012dbd58e76490c86c8b6af30263042",
            "6384dcb0877440a9a5ec541c393d9242",
            "fe3839a0ea844c4287a367f360b31ca2",
            "c7d70da245af4f8b9de93d4fb68bb6c1",
            "698459f8abcc4cdd942599fc1835ae14",
            "11d31bae050d4ed7abb39e46bd9237e7",
            "bd37bca051194f1d807fc8cd575c0640"
          ]
        },
        "outputId": "740928b4-400b-4508-f046-3048cf5eb836"
      },
      "execution_count": null,
      "outputs": [
        {
          "output_type": "display_data",
          "data": {
            "text/plain": [
              "<IPython.core.display.HTML object>"
            ],
            "text/html": [
              "Finishing last run (ID:relu) before initializing another..."
            ]
          },
          "metadata": {}
        },
        {
          "output_type": "display_data",
          "data": {
            "text/plain": [
              "<IPython.core.display.HTML object>"
            ],
            "text/html": [
              "Waiting for W&B process to finish... <strong style=\"color:green\">(success).</strong>"
            ]
          },
          "metadata": {}
        },
        {
          "output_type": "display_data",
          "data": {
            "text/plain": [
              "VBox(children=(Label(value='0.002 MB of 0.002 MB uploaded (0.000 MB deduped)\\r'), FloatProgress(value=1.0, max…"
            ],
            "application/vnd.jupyter.widget-view+json": {
              "version_major": 2,
              "version_minor": 0,
              "model_id": "761f8d17ab064952893b20bd96b8e4be"
            }
          },
          "metadata": {}
        },
        {
          "output_type": "display_data",
          "data": {
            "text/plain": [
              "<IPython.core.display.HTML object>"
            ],
            "text/html": [
              "<style>\n",
              "    table.wandb td:nth-child(1) { padding: 0 10px; text-align: left ; width: auto;} td:nth-child(2) {text-align: left ; width: 100%}\n",
              "    .wandb-row { display: flex; flex-direction: row; flex-wrap: wrap; justify-content: flex-start; width: 100% }\n",
              "    .wandb-col { display: flex; flex-direction: column; flex-basis: 100%; flex: 1; padding: 10px; }\n",
              "    </style>\n",
              "<div class=\"wandb-row\"><div class=\"wandb-col\"><h3>Run history:</h3><br/><table class=\"wandb\"><tr><td>accuracy</td><td>▁▄▅▅▅▆▆▆▆▇▇▇▇▇▇▇▇▇████████████</td></tr><tr><td>epoch</td><td>▁▁▁▂▂▂▂▃▃▃▃▄▄▄▄▅▅▅▅▆▆▆▆▇▇▇▇███</td></tr><tr><td>loss</td><td>█▅▄▄▄▃▃▃▃▂▂▂▂▂▂▂▂▂▁▁▁▁▁▁▁▁▁▁▁▁</td></tr></table><br/></div><div class=\"wandb-col\"><h3>Run summary:</h3><br/><table class=\"wandb\"><tr><td>GFLOPs</td><td>0.00286</td></tr><tr><td>accuracy</td><td>0.97475</td></tr><tr><td>epoch</td><td>29</td></tr><tr><td>loss</td><td>0.06756</td></tr></table><br/></div></div>"
            ]
          },
          "metadata": {}
        },
        {
          "output_type": "display_data",
          "data": {
            "text/plain": [
              "<IPython.core.display.HTML object>"
            ],
            "text/html": [
              "Synced <strong style=\"color:#cdcd00\">relu</strong>: <a href=\"https://wandb.ai/techzx/Activation%20Functions%20Test%20C-30-2000%20Cifar10/runs/relu\" target=\"_blank\">https://wandb.ai/techzx/Activation%20Functions%20Test%20C-30-2000%20Cifar10/runs/relu</a><br/>Synced 5 W&B file(s), 1 media file(s), 0 artifact file(s) and 0 other file(s)"
            ]
          },
          "metadata": {}
        },
        {
          "output_type": "display_data",
          "data": {
            "text/plain": [
              "<IPython.core.display.HTML object>"
            ],
            "text/html": [
              "Find logs at: <code>./wandb/run-20220928_002021-relu/logs</code>"
            ]
          },
          "metadata": {}
        },
        {
          "output_type": "display_data",
          "data": {
            "text/plain": [
              "<IPython.core.display.HTML object>"
            ],
            "text/html": [
              "Successfully finished last run (ID:relu). Initializing new run:<br/>"
            ]
          },
          "metadata": {}
        },
        {
          "output_type": "display_data",
          "data": {
            "text/plain": [
              "<IPython.core.display.HTML object>"
            ],
            "text/html": [
              "Tracking run with wandb version 0.13.3"
            ]
          },
          "metadata": {}
        },
        {
          "output_type": "display_data",
          "data": {
            "text/plain": [
              "<IPython.core.display.HTML object>"
            ],
            "text/html": [
              "Run data is saved locally in <code>/content/wandb/run-20220928_002502-relu</code>"
            ]
          },
          "metadata": {}
        },
        {
          "output_type": "display_data",
          "data": {
            "text/plain": [
              "<IPython.core.display.HTML object>"
            ],
            "text/html": [
              "Syncing run <strong><a href=\"https://wandb.ai/techzx/Activation%20Functions%20Test%20C-30-2000%20Fashion%20Mnist/runs/relu\" target=\"_blank\">relu</a></strong> to <a href=\"https://wandb.ai/techzx/Activation%20Functions%20Test%20C-30-2000%20Fashion%20Mnist\" target=\"_blank\">Weights & Biases</a> (<a href=\"https://wandb.me/run\" target=\"_blank\">docs</a>)<br/>"
            ]
          },
          "metadata": {}
        },
        {
          "output_type": "stream",
          "name": "stdout",
          "text": [
            "Epoch 1/30\n",
            "2000/2000 [==============================] - 7s 4ms/step - loss: 0.5219 - accuracy: 0.8069\n",
            "Epoch 2/30\n",
            "2000/2000 [==============================] - 7s 3ms/step - loss: 0.3322 - accuracy: 0.8793\n",
            "Epoch 3/30\n",
            "2000/2000 [==============================] - 7s 3ms/step - loss: 0.2861 - accuracy: 0.8955\n",
            "Epoch 4/30\n",
            "2000/2000 [==============================] - 7s 3ms/step - loss: 0.2551 - accuracy: 0.9059\n",
            "Epoch 5/30\n",
            "2000/2000 [==============================] - 7s 3ms/step - loss: 0.2328 - accuracy: 0.9142\n",
            "Epoch 6/30\n",
            "2000/2000 [==============================] - 7s 3ms/step - loss: 0.2132 - accuracy: 0.9209\n",
            "Epoch 7/30\n",
            "2000/2000 [==============================] - 7s 4ms/step - loss: 0.1990 - accuracy: 0.9265\n",
            "Epoch 8/30\n",
            "2000/2000 [==============================] - 7s 3ms/step - loss: 0.1840 - accuracy: 0.9311\n",
            "Epoch 9/30\n",
            "2000/2000 [==============================] - 7s 3ms/step - loss: 0.1725 - accuracy: 0.9350\n",
            "Epoch 10/30\n",
            "2000/2000 [==============================] - 7s 4ms/step - loss: 0.1615 - accuracy: 0.9395\n",
            "Epoch 11/30\n",
            "2000/2000 [==============================] - 7s 3ms/step - loss: 0.1503 - accuracy: 0.9420\n",
            "Epoch 12/30\n",
            "2000/2000 [==============================] - 7s 3ms/step - loss: 0.1410 - accuracy: 0.9460\n",
            "Epoch 13/30\n",
            "2000/2000 [==============================] - 7s 3ms/step - loss: 0.1323 - accuracy: 0.9495\n",
            "Epoch 14/30\n",
            "2000/2000 [==============================] - 7s 3ms/step - loss: 0.1249 - accuracy: 0.9517\n",
            "Epoch 15/30\n",
            "2000/2000 [==============================] - 7s 3ms/step - loss: 0.1174 - accuracy: 0.9551\n",
            "Epoch 16/30\n",
            "2000/2000 [==============================] - 7s 3ms/step - loss: 0.1135 - accuracy: 0.9561\n",
            "Epoch 17/30\n",
            "2000/2000 [==============================] - 8s 4ms/step - loss: 0.1082 - accuracy: 0.9589\n",
            "Epoch 18/30\n",
            "2000/2000 [==============================] - 7s 3ms/step - loss: 0.1003 - accuracy: 0.9616\n",
            "Epoch 19/30\n",
            "2000/2000 [==============================] - 7s 3ms/step - loss: 0.0949 - accuracy: 0.9628\n",
            "Epoch 20/30\n",
            "2000/2000 [==============================] - 7s 3ms/step - loss: 0.0929 - accuracy: 0.9644\n",
            "Epoch 21/30\n",
            "2000/2000 [==============================] - 7s 3ms/step - loss: 0.0859 - accuracy: 0.9670\n",
            "Epoch 22/30\n",
            "2000/2000 [==============================] - 7s 3ms/step - loss: 0.0857 - accuracy: 0.9673\n",
            "Epoch 23/30\n",
            "2000/2000 [==============================] - 7s 3ms/step - loss: 0.0802 - accuracy: 0.9695\n",
            "Epoch 24/30\n",
            "2000/2000 [==============================] - 7s 3ms/step - loss: 0.0786 - accuracy: 0.9694\n",
            "Epoch 25/30\n",
            "2000/2000 [==============================] - 7s 4ms/step - loss: 0.0752 - accuracy: 0.9709\n",
            "Epoch 26/30\n",
            "2000/2000 [==============================] - 7s 4ms/step - loss: 0.0756 - accuracy: 0.9719\n",
            "Epoch 27/30\n",
            "2000/2000 [==============================] - 7s 4ms/step - loss: 0.0733 - accuracy: 0.9724\n",
            "Epoch 28/30\n",
            "2000/2000 [==============================] - 7s 3ms/step - loss: 0.0693 - accuracy: 0.9733\n",
            "Epoch 29/30\n",
            "2000/2000 [==============================] - 7s 3ms/step - loss: 0.0664 - accuracy: 0.9746\n",
            "Epoch 30/30\n",
            "2000/2000 [==============================] - 7s 4ms/step - loss: 0.0649 - accuracy: 0.9752\n",
            "Elapsed 262.673 seconds.\n"
          ]
        }
      ]
    },
    {
      "cell_type": "markdown",
      "source": [
        "#**Tanh**"
      ],
      "metadata": {
        "id": "fdPvOUlgD1nc"
      }
    },
    {
      "cell_type": "code",
      "source": [
        "from keras.models import Sequential\n",
        "from keras.layers import Dense, Conv2D, Dropout, Flatten, MaxPooling2D\n",
        "# Creating a Sequential Model and adding the layers\n",
        "model2 = Sequential()\n",
        "model2.add(Conv2D(32, kernel_size=(3,3), activation='tanh', input_shape=input_shape))#default s=1\n",
        "model2.add(MaxPooling2D(pool_size=(2, 2)))#default s=2\n",
        "model2.add(Conv2D(64, kernel_size=(3,3), activation='tanh'))\n",
        "model2.add(MaxPooling2D(pool_size=(2, 2)))\n",
        "model2.add(Conv2D(64, kernel_size=(3,3), activation='tanh'))\n",
        "model2.add(Flatten()) # Flattening the 3D arrays for fully connected layers\n",
        "model2.add(Dense(128, activation='tanh'))#<---- 1st hideen layer\n",
        "model2.add(Dropout(0.2))\n",
        "model2.add(Dense(10,activation='softmax'))#<-----output layer\n",
        "\n",
        "wandb.init(project='Activation Functions Test C-30-2000 Fashion Mnist', id='tanh') \n",
        "start = time.perf_counter()\n",
        "model2.compile(optimizer='adam', \n",
        "              loss='sparse_categorical_crossentropy', \n",
        "              metrics=['accuracy']) #configures the model\n",
        "model2.fit(x=X_train,y=y_train, epochs=30,steps_per_epoch=2000, callbacks=[WandbCallback()])\n",
        "elapsed = time.perf_counter() - start\n",
        "print('Elapsed %.3f seconds.' % elapsed)"
      ],
      "metadata": {
        "id": "OPYhS0AvwOeT",
        "colab": {
          "base_uri": "https://localhost:8080/",
          "height": 1000,
          "referenced_widgets": [
            "eae23ebb60c4404193e33d01426a2308",
            "9e3491a0a7ee4ff59a184695dfe1c94a",
            "e38a387fd5af4542ad08979042ec5fb9",
            "f76f330452f44c1580fb12b04e7ab26c",
            "b3ac8d2ae0694ceabd3985307ed32522",
            "3f993e117a0342b8b27198ead4e705ed",
            "f5f9e72e2b4141b0b42ba13f976c2664",
            "239de8a4cea4447d86f352a18a306b3d"
          ]
        },
        "outputId": "1e223a37-8ef0-4215-ae39-04d453279efc"
      },
      "execution_count": null,
      "outputs": [
        {
          "output_type": "display_data",
          "data": {
            "text/plain": [
              "<IPython.core.display.HTML object>"
            ],
            "text/html": [
              "Finishing last run (ID:relu) before initializing another..."
            ]
          },
          "metadata": {}
        },
        {
          "output_type": "display_data",
          "data": {
            "text/plain": [
              "<IPython.core.display.HTML object>"
            ],
            "text/html": [
              "Waiting for W&B process to finish... <strong style=\"color:green\">(success).</strong>"
            ]
          },
          "metadata": {}
        },
        {
          "output_type": "display_data",
          "data": {
            "text/plain": [
              "VBox(children=(Label(value='0.002 MB of 0.002 MB uploaded (0.000 MB deduped)\\r'), FloatProgress(value=1.0, max…"
            ],
            "application/vnd.jupyter.widget-view+json": {
              "version_major": 2,
              "version_minor": 0,
              "model_id": "eae23ebb60c4404193e33d01426a2308"
            }
          },
          "metadata": {}
        },
        {
          "output_type": "display_data",
          "data": {
            "text/plain": [
              "<IPython.core.display.HTML object>"
            ],
            "text/html": [
              "<style>\n",
              "    table.wandb td:nth-child(1) { padding: 0 10px; text-align: left ; width: auto;} td:nth-child(2) {text-align: left ; width: 100%}\n",
              "    .wandb-row { display: flex; flex-direction: row; flex-wrap: wrap; justify-content: flex-start; width: 100% }\n",
              "    .wandb-col { display: flex; flex-direction: column; flex-basis: 100%; flex: 1; padding: 10px; }\n",
              "    </style>\n",
              "<div class=\"wandb-row\"><div class=\"wandb-col\"><h3>Run history:</h3><br/><table class=\"wandb\"><tr><td>accuracy</td><td>▁▄▅▅▅▆▆▆▆▇▇▇▇▇▇▇▇▇▇███████████</td></tr><tr><td>epoch</td><td>▁▁▁▂▂▂▂▃▃▃▃▄▄▄▄▅▅▅▅▆▆▆▆▇▇▇▇███</td></tr><tr><td>loss</td><td>█▅▄▄▄▃▃▃▃▂▂▂▂▂▂▂▂▂▁▁▁▁▁▁▁▁▁▁▁▁</td></tr></table><br/></div><div class=\"wandb-col\"><h3>Run summary:</h3><br/><table class=\"wandb\"><tr><td>GFLOPs</td><td>0.00286</td></tr><tr><td>accuracy</td><td>0.97517</td></tr><tr><td>epoch</td><td>29</td></tr><tr><td>loss</td><td>0.06487</td></tr></table><br/></div></div>"
            ]
          },
          "metadata": {}
        },
        {
          "output_type": "display_data",
          "data": {
            "text/plain": [
              "<IPython.core.display.HTML object>"
            ],
            "text/html": [
              "Synced <strong style=\"color:#cdcd00\">relu</strong>: <a href=\"https://wandb.ai/techzx/Activation%20Functions%20Test%20C-30-2000%20Fashion%20Mnist/runs/relu\" target=\"_blank\">https://wandb.ai/techzx/Activation%20Functions%20Test%20C-30-2000%20Fashion%20Mnist/runs/relu</a><br/>Synced 5 W&B file(s), 1 media file(s), 0 artifact file(s) and 0 other file(s)"
            ]
          },
          "metadata": {}
        },
        {
          "output_type": "display_data",
          "data": {
            "text/plain": [
              "<IPython.core.display.HTML object>"
            ],
            "text/html": [
              "Find logs at: <code>./wandb/run-20220928_002502-relu/logs</code>"
            ]
          },
          "metadata": {}
        },
        {
          "output_type": "display_data",
          "data": {
            "text/plain": [
              "<IPython.core.display.HTML object>"
            ],
            "text/html": [
              "Successfully finished last run (ID:relu). Initializing new run:<br/>"
            ]
          },
          "metadata": {}
        },
        {
          "output_type": "display_data",
          "data": {
            "text/plain": [
              "<IPython.core.display.HTML object>"
            ],
            "text/html": [
              "Tracking run with wandb version 0.13.3"
            ]
          },
          "metadata": {}
        },
        {
          "output_type": "display_data",
          "data": {
            "text/plain": [
              "<IPython.core.display.HTML object>"
            ],
            "text/html": [
              "Run data is saved locally in <code>/content/wandb/run-20220928_003007-tanh</code>"
            ]
          },
          "metadata": {}
        },
        {
          "output_type": "display_data",
          "data": {
            "text/plain": [
              "<IPython.core.display.HTML object>"
            ],
            "text/html": [
              "Syncing run <strong><a href=\"https://wandb.ai/techzx/Activation%20Functions%20Test%20C-30-2000%20Fashion%20Mnist/runs/tanh\" target=\"_blank\">tanh</a></strong> to <a href=\"https://wandb.ai/techzx/Activation%20Functions%20Test%20C-30-2000%20Fashion%20Mnist\" target=\"_blank\">Weights & Biases</a> (<a href=\"https://wandb.me/run\" target=\"_blank\">docs</a>)<br/>"
            ]
          },
          "metadata": {}
        },
        {
          "output_type": "stream",
          "name": "stdout",
          "text": [
            "Epoch 1/30\n",
            "2000/2000 [==============================] - 8s 4ms/step - loss: 0.4779 - accuracy: 0.8251\n",
            "Epoch 2/30\n",
            "2000/2000 [==============================] - 7s 4ms/step - loss: 0.3344 - accuracy: 0.8795\n",
            "Epoch 3/30\n",
            "2000/2000 [==============================] - 7s 4ms/step - loss: 0.2926 - accuracy: 0.8935\n",
            "Epoch 4/30\n",
            "2000/2000 [==============================] - 7s 4ms/step - loss: 0.2671 - accuracy: 0.9028\n",
            "Epoch 5/30\n",
            "2000/2000 [==============================] - 7s 4ms/step - loss: 0.2452 - accuracy: 0.9105\n",
            "Epoch 6/30\n",
            "2000/2000 [==============================] - 7s 3ms/step - loss: 0.2266 - accuracy: 0.9183\n",
            "Epoch 7/30\n",
            "2000/2000 [==============================] - 7s 4ms/step - loss: 0.2117 - accuracy: 0.9225\n",
            "Epoch 8/30\n",
            "2000/2000 [==============================] - 7s 3ms/step - loss: 0.1953 - accuracy: 0.9288\n",
            "Epoch 9/30\n",
            "2000/2000 [==============================] - 7s 4ms/step - loss: 0.1859 - accuracy: 0.9328\n",
            "Epoch 10/30\n",
            "2000/2000 [==============================] - 7s 3ms/step - loss: 0.1734 - accuracy: 0.9360\n",
            "Epoch 11/30\n",
            "2000/2000 [==============================] - 7s 4ms/step - loss: 0.1619 - accuracy: 0.9416\n",
            "Epoch 12/30\n",
            "2000/2000 [==============================] - 7s 4ms/step - loss: 0.1513 - accuracy: 0.9449\n",
            "Epoch 13/30\n",
            "2000/2000 [==============================] - 7s 4ms/step - loss: 0.1460 - accuracy: 0.9466\n",
            "Epoch 14/30\n",
            "2000/2000 [==============================] - 7s 3ms/step - loss: 0.1358 - accuracy: 0.9500\n",
            "Epoch 15/30\n",
            "2000/2000 [==============================] - 8s 4ms/step - loss: 0.1297 - accuracy: 0.9523\n",
            "Epoch 16/30\n",
            "2000/2000 [==============================] - 7s 3ms/step - loss: 0.1255 - accuracy: 0.9550\n",
            "Epoch 17/30\n",
            "2000/2000 [==============================] - 7s 3ms/step - loss: 0.1168 - accuracy: 0.9581\n",
            "Epoch 18/30\n",
            "2000/2000 [==============================] - 7s 4ms/step - loss: 0.1137 - accuracy: 0.9584\n",
            "Epoch 19/30\n",
            "2000/2000 [==============================] - 7s 4ms/step - loss: 0.1054 - accuracy: 0.9614\n",
            "Epoch 20/30\n",
            "2000/2000 [==============================] - 7s 4ms/step - loss: 0.1031 - accuracy: 0.9617\n",
            "Epoch 21/30\n",
            "2000/2000 [==============================] - 7s 4ms/step - loss: 0.0982 - accuracy: 0.9642\n",
            "Epoch 22/30\n",
            "2000/2000 [==============================] - 7s 4ms/step - loss: 0.0955 - accuracy: 0.9657\n",
            "Epoch 23/30\n",
            "2000/2000 [==============================] - 7s 3ms/step - loss: 0.0887 - accuracy: 0.9673\n",
            "Epoch 24/30\n",
            "2000/2000 [==============================] - 7s 4ms/step - loss: 0.0915 - accuracy: 0.9658\n",
            "Epoch 25/30\n",
            "2000/2000 [==============================] - 7s 4ms/step - loss: 0.0849 - accuracy: 0.9686\n",
            "Epoch 26/30\n",
            "2000/2000 [==============================] - 7s 4ms/step - loss: 0.0833 - accuracy: 0.9700\n",
            "Epoch 27/30\n",
            "2000/2000 [==============================] - 7s 4ms/step - loss: 0.0828 - accuracy: 0.9689\n",
            "Epoch 28/30\n",
            "2000/2000 [==============================] - 7s 4ms/step - loss: 0.0797 - accuracy: 0.9713\n",
            "Epoch 29/30\n",
            "2000/2000 [==============================] - 7s 4ms/step - loss: 0.0811 - accuracy: 0.9707\n",
            "Epoch 30/30\n",
            "2000/2000 [==============================] - 7s 4ms/step - loss: 0.0746 - accuracy: 0.9727\n",
            "Elapsed 262.675 seconds.\n"
          ]
        }
      ]
    },
    {
      "cell_type": "markdown",
      "source": [
        "#**Leaky RELU**"
      ],
      "metadata": {
        "id": "O7IMY-QBD6KF"
      }
    },
    {
      "cell_type": "code",
      "source": [
        "from keras.models import Sequential\n",
        "from keras.layers import Dense, Conv2D, Dropout, Flatten, MaxPooling2D\n",
        "# Creating a Sequential Model and adding the layers\n",
        "model = Sequential()\n",
        "model.add(Conv2D(32, kernel_size=(3,3), activation=tf.nn.leaky_relu, input_shape=input_shape))#default s=1\n",
        "model.add(MaxPooling2D(pool_size=(2, 2)))#default s=2\n",
        "model.add(Conv2D(64, kernel_size=(3,3), activation=tf.nn.leaky_relu))\n",
        "model.add(MaxPooling2D(pool_size=(2, 2)))\n",
        "model.add(Conv2D(64, kernel_size=(3,3), activation=tf.nn.leaky_relu))\n",
        "model.add(Flatten()) # Flattening the 3D arrays for fully connected layers\n",
        "model.add(Dense(128, activation=tf.nn.leaky_relu))#<---- 1st hideen layer\n",
        "model.add(Dropout(0.2))\n",
        "model.add(Dense(10,activation='softmax'))#<-----output layer\n",
        "\n",
        "\n",
        "wandb.init(project='Activation Functions Test C-30-2000 Fashion Mnist', id='leaky_relu')\n",
        "start = time.perf_counter()\n",
        "model1.compile(optimizer='adam', \n",
        "              loss='sparse_categorical_crossentropy', \n",
        "              metrics=['accuracy']) #configures the model\n",
        "model1.fit(x=X_train,y=y_train, epochs=30,steps_per_epoch=2000, callbacks=[WandbCallback()])\n",
        "elapsed = time.perf_counter() - start\n",
        "print('Elapsed %.3f seconds.' % elapsed)"
      ],
      "metadata": {
        "id": "F1WCTL-XwTRw",
        "colab": {
          "base_uri": "https://localhost:8080/",
          "height": 1000,
          "referenced_widgets": [
            "234cc8079a1b48c9ad3a2bb64f8ec204",
            "f500302981924102abee5f156d9c8251",
            "7f9321a0154543eaa51f3d5701a2044f",
            "f127155be3f548f599b8e51ddf47a7a2",
            "c4a6ac3bc6a540918204ebd182bde125",
            "54890d4b77c0443eb2e6fd4d1d98cd1e",
            "28442b41cc524398ad72572abf91c8d8",
            "09fb93527d2242b1aa9e1411b25ffc6d"
          ]
        },
        "outputId": "e06f908c-caf9-4f1f-dcd2-e9ff8513d4d0"
      },
      "execution_count": null,
      "outputs": [
        {
          "output_type": "display_data",
          "data": {
            "text/plain": [
              "<IPython.core.display.HTML object>"
            ],
            "text/html": [
              "Finishing last run (ID:tanh) before initializing another..."
            ]
          },
          "metadata": {}
        },
        {
          "output_type": "display_data",
          "data": {
            "text/plain": [
              "<IPython.core.display.HTML object>"
            ],
            "text/html": [
              "Waiting for W&B process to finish... <strong style=\"color:green\">(success).</strong>"
            ]
          },
          "metadata": {}
        },
        {
          "output_type": "display_data",
          "data": {
            "text/plain": [
              "VBox(children=(Label(value='0.002 MB of 0.002 MB uploaded (0.000 MB deduped)\\r'), FloatProgress(value=1.0, max…"
            ],
            "application/vnd.jupyter.widget-view+json": {
              "version_major": 2,
              "version_minor": 0,
              "model_id": "234cc8079a1b48c9ad3a2bb64f8ec204"
            }
          },
          "metadata": {}
        },
        {
          "output_type": "display_data",
          "data": {
            "text/plain": [
              "<IPython.core.display.HTML object>"
            ],
            "text/html": [
              "<style>\n",
              "    table.wandb td:nth-child(1) { padding: 0 10px; text-align: left ; width: auto;} td:nth-child(2) {text-align: left ; width: 100%}\n",
              "    .wandb-row { display: flex; flex-direction: row; flex-wrap: wrap; justify-content: flex-start; width: 100% }\n",
              "    .wandb-col { display: flex; flex-direction: column; flex-basis: 100%; flex: 1; padding: 10px; }\n",
              "    </style>\n",
              "<div class=\"wandb-row\"><div class=\"wandb-col\"><h3>Run history:</h3><br/><table class=\"wandb\"><tr><td>accuracy</td><td>▁▄▄▅▅▅▆▆▆▆▇▇▇▇▇▇▇▇▇▇██████████</td></tr><tr><td>epoch</td><td>▁▁▁▂▂▂▂▃▃▃▃▄▄▄▄▅▅▅▅▆▆▆▆▇▇▇▇███</td></tr><tr><td>loss</td><td>█▆▅▄▄▄▃▃▃▃▃▂▂▂▂▂▂▂▂▁▁▁▁▁▁▁▁▁▁▁</td></tr></table><br/></div><div class=\"wandb-col\"><h3>Run summary:</h3><br/><table class=\"wandb\"><tr><td>GFLOPs</td><td>0.00286</td></tr><tr><td>accuracy</td><td>0.97267</td></tr><tr><td>epoch</td><td>29</td></tr><tr><td>loss</td><td>0.07455</td></tr></table><br/></div></div>"
            ]
          },
          "metadata": {}
        },
        {
          "output_type": "display_data",
          "data": {
            "text/plain": [
              "<IPython.core.display.HTML object>"
            ],
            "text/html": [
              "Synced <strong style=\"color:#cdcd00\">tanh</strong>: <a href=\"https://wandb.ai/techzx/Activation%20Functions%20Test%20C-30-2000%20Fashion%20Mnist/runs/tanh\" target=\"_blank\">https://wandb.ai/techzx/Activation%20Functions%20Test%20C-30-2000%20Fashion%20Mnist/runs/tanh</a><br/>Synced 5 W&B file(s), 1 media file(s), 0 artifact file(s) and 0 other file(s)"
            ]
          },
          "metadata": {}
        },
        {
          "output_type": "display_data",
          "data": {
            "text/plain": [
              "<IPython.core.display.HTML object>"
            ],
            "text/html": [
              "Find logs at: <code>./wandb/run-20220928_003007-tanh/logs</code>"
            ]
          },
          "metadata": {}
        },
        {
          "output_type": "display_data",
          "data": {
            "text/plain": [
              "<IPython.core.display.HTML object>"
            ],
            "text/html": [
              "Successfully finished last run (ID:tanh). Initializing new run:<br/>"
            ]
          },
          "metadata": {}
        },
        {
          "output_type": "display_data",
          "data": {
            "text/plain": [
              "<IPython.core.display.HTML object>"
            ],
            "text/html": [
              "Tracking run with wandb version 0.13.3"
            ]
          },
          "metadata": {}
        },
        {
          "output_type": "display_data",
          "data": {
            "text/plain": [
              "<IPython.core.display.HTML object>"
            ],
            "text/html": [
              "Run data is saved locally in <code>/content/wandb/run-20220928_003507-leaky_relu</code>"
            ]
          },
          "metadata": {}
        },
        {
          "output_type": "display_data",
          "data": {
            "text/plain": [
              "<IPython.core.display.HTML object>"
            ],
            "text/html": [
              "Syncing run <strong><a href=\"https://wandb.ai/techzx/Activation%20Functions%20Test%20C-30-2000%20Fashion%20Mnist/runs/leaky_relu\" target=\"_blank\">leaky_relu</a></strong> to <a href=\"https://wandb.ai/techzx/Activation%20Functions%20Test%20C-30-2000%20Fashion%20Mnist\" target=\"_blank\">Weights & Biases</a> (<a href=\"https://wandb.me/run\" target=\"_blank\">docs</a>)<br/>"
            ]
          },
          "metadata": {}
        },
        {
          "output_type": "stream",
          "name": "stdout",
          "text": [
            "Epoch 1/30\n",
            "2000/2000 [==============================] - 8s 4ms/step - loss: 0.0669 - accuracy: 0.9748\n",
            "Epoch 2/30\n",
            "2000/2000 [==============================] - 7s 4ms/step - loss: 0.0675 - accuracy: 0.9756\n",
            "Epoch 3/30\n",
            "2000/2000 [==============================] - 7s 4ms/step - loss: 0.0622 - accuracy: 0.9761\n",
            "Epoch 4/30\n",
            "2000/2000 [==============================] - 7s 4ms/step - loss: 0.0621 - accuracy: 0.9771\n",
            "Epoch 5/30\n",
            "2000/2000 [==============================] - 7s 4ms/step - loss: 0.0581 - accuracy: 0.9790\n",
            "Epoch 6/30\n",
            "2000/2000 [==============================] - 7s 4ms/step - loss: 0.0649 - accuracy: 0.9761\n",
            "Epoch 7/30\n",
            "2000/2000 [==============================] - 7s 4ms/step - loss: 0.0581 - accuracy: 0.9780\n",
            "Epoch 8/30\n",
            "2000/2000 [==============================] - 7s 4ms/step - loss: 0.0555 - accuracy: 0.9793\n",
            "Epoch 9/30\n",
            "2000/2000 [==============================] - 8s 4ms/step - loss: 0.0590 - accuracy: 0.9787\n",
            "Epoch 10/30\n",
            "2000/2000 [==============================] - 7s 4ms/step - loss: 0.0561 - accuracy: 0.9796\n",
            "Epoch 11/30\n",
            "2000/2000 [==============================] - 7s 4ms/step - loss: 0.0595 - accuracy: 0.9789\n",
            "Epoch 12/30\n",
            "2000/2000 [==============================] - 7s 4ms/step - loss: 0.0513 - accuracy: 0.9817\n",
            "Epoch 13/30\n",
            "2000/2000 [==============================] - 7s 4ms/step - loss: 0.0548 - accuracy: 0.9805\n",
            "Epoch 14/30\n",
            "2000/2000 [==============================] - 7s 4ms/step - loss: 0.0534 - accuracy: 0.9807\n",
            "Epoch 15/30\n",
            "2000/2000 [==============================] - 8s 4ms/step - loss: 0.0544 - accuracy: 0.9806\n",
            "Epoch 16/30\n",
            "2000/2000 [==============================] - 7s 4ms/step - loss: 0.0503 - accuracy: 0.9818\n",
            "Epoch 17/30\n",
            "2000/2000 [==============================] - 7s 4ms/step - loss: 0.0501 - accuracy: 0.9811\n",
            "Epoch 18/30\n",
            "2000/2000 [==============================] - 7s 4ms/step - loss: 0.0503 - accuracy: 0.9825\n",
            "Epoch 19/30\n",
            "2000/2000 [==============================] - 7s 4ms/step - loss: 0.0488 - accuracy: 0.9819\n",
            "Epoch 20/30\n",
            "2000/2000 [==============================] - 7s 3ms/step - loss: 0.0495 - accuracy: 0.9826\n",
            "Epoch 21/30\n",
            "2000/2000 [==============================] - 7s 4ms/step - loss: 0.0501 - accuracy: 0.9826\n",
            "Epoch 22/30\n",
            "2000/2000 [==============================] - 7s 3ms/step - loss: 0.0472 - accuracy: 0.9833\n",
            "Epoch 23/30\n",
            "2000/2000 [==============================] - 7s 3ms/step - loss: 0.0461 - accuracy: 0.9837\n",
            "Epoch 24/30\n",
            "2000/2000 [==============================] - 7s 3ms/step - loss: 0.0506 - accuracy: 0.9828\n",
            "Epoch 25/30\n",
            "2000/2000 [==============================] - 7s 3ms/step - loss: 0.0467 - accuracy: 0.9834\n",
            "Epoch 26/30\n",
            "2000/2000 [==============================] - 7s 4ms/step - loss: 0.0466 - accuracy: 0.9838\n",
            "Epoch 27/30\n",
            "2000/2000 [==============================] - 7s 4ms/step - loss: 0.0454 - accuracy: 0.9844\n",
            "Epoch 28/30\n",
            "2000/2000 [==============================] - 7s 4ms/step - loss: 0.0485 - accuracy: 0.9836\n",
            "Epoch 29/30\n",
            "2000/2000 [==============================] - 7s 4ms/step - loss: 0.0420 - accuracy: 0.9853\n",
            "Epoch 30/30\n",
            "2000/2000 [==============================] - 7s 4ms/step - loss: 0.0458 - accuracy: 0.9843\n",
            "Elapsed 262.756 seconds.\n"
          ]
        }
      ]
    },
    {
      "cell_type": "markdown",
      "source": [
        "#**ELU**"
      ],
      "metadata": {
        "id": "vWWGM2PwD-O4"
      }
    },
    {
      "cell_type": "code",
      "source": [
        "from keras.models import Sequential\n",
        "from keras.layers import Dense, Conv2D, Dropout, Flatten, MaxPooling2D\n",
        "# Creating a Sequential Model and adding the layers\n",
        "model = Sequential()\n",
        "model.add(Conv2D(32, kernel_size=(3,3), activation='elu', input_shape=input_shape))#default s=1\n",
        "model.add(MaxPooling2D(pool_size=(2, 2)))#default s=2\n",
        "model.add(Conv2D(64, kernel_size=(3,3), activation='elu'))\n",
        "model.add(MaxPooling2D(pool_size=(2, 2)))\n",
        "model.add(Conv2D(64, kernel_size=(3,3), activation='elu'))\n",
        "model.add(Flatten()) # Flattening the 3D arrays for fully connected layers\n",
        "model.add(Dense(128, activation='elu'))#<---- 1st hideen layer\n",
        "model.add(Dropout(0.2))\n",
        "model.add(Dense(10,activation='softmax'))#<-----output layer\n",
        "\n",
        "wandb.init(project='Activation Functions Test C-30-2000 Fashion Mnist', id='elu')\n",
        "start = time.perf_counter()\n",
        "model1.compile(optimizer='adam', \n",
        "              loss='sparse_categorical_crossentropy', \n",
        "              metrics=['accuracy']) #configures the model\n",
        "model1.fit(x=X_train,y=y_train, epochs=30,steps_per_epoch=2000, callbacks=[WandbCallback()])\n",
        "elapsed = time.perf_counter() - start\n",
        "print('Elapsed %.3f seconds.' % elapsed)"
      ],
      "metadata": {
        "id": "iRJ2XZI7wVuW",
        "colab": {
          "base_uri": "https://localhost:8080/",
          "height": 1000,
          "referenced_widgets": [
            "716d63d150d941cdbee8c0c468a61c9b",
            "905ef6da83d049cf8bbf8b38692cc13d",
            "4c539ced0ec843f78dfdd785ab40600e",
            "9227aa9f5298459caa7a5af7331811e3",
            "5263699ab14743eb98a387785e1247f6",
            "0921c8a28b754ca5b41ff04cca1df396",
            "8ee2eaee672642e48094bf22bb9016ac",
            "5ffd70121ead41d3916d90b651f8bb5f"
          ]
        },
        "outputId": "7ca364c8-6228-4dc0-e683-9039883aefe6"
      },
      "execution_count": null,
      "outputs": [
        {
          "output_type": "display_data",
          "data": {
            "text/plain": [
              "<IPython.core.display.HTML object>"
            ],
            "text/html": [
              "Finishing last run (ID:leaky_relu) before initializing another..."
            ]
          },
          "metadata": {}
        },
        {
          "output_type": "display_data",
          "data": {
            "text/plain": [
              "<IPython.core.display.HTML object>"
            ],
            "text/html": [
              "Waiting for W&B process to finish... <strong style=\"color:green\">(success).</strong>"
            ]
          },
          "metadata": {}
        },
        {
          "output_type": "display_data",
          "data": {
            "text/plain": [
              "VBox(children=(Label(value='0.002 MB of 0.002 MB uploaded (0.000 MB deduped)\\r'), FloatProgress(value=1.0, max…"
            ],
            "application/vnd.jupyter.widget-view+json": {
              "version_major": 2,
              "version_minor": 0,
              "model_id": "716d63d150d941cdbee8c0c468a61c9b"
            }
          },
          "metadata": {}
        },
        {
          "output_type": "display_data",
          "data": {
            "text/plain": [
              "<IPython.core.display.HTML object>"
            ],
            "text/html": [
              "<style>\n",
              "    table.wandb td:nth-child(1) { padding: 0 10px; text-align: left ; width: auto;} td:nth-child(2) {text-align: left ; width: 100%}\n",
              "    .wandb-row { display: flex; flex-direction: row; flex-wrap: wrap; justify-content: flex-start; width: 100% }\n",
              "    .wandb-col { display: flex; flex-direction: column; flex-basis: 100%; flex: 1; padding: 10px; }\n",
              "    </style>\n",
              "<div class=\"wandb-row\"><div class=\"wandb-col\"><h3>Run history:</h3><br/><table class=\"wandb\"><tr><td>accuracy</td><td>▁▂▂▃▄▂▃▄▄▄▄▆▅▅▅▆▅▆▆▆▆▇▇▆▇▇▇▇█▇</td></tr><tr><td>epoch</td><td>▁▁▁▂▂▂▂▃▃▃▃▄▄▄▄▅▅▅▅▆▆▆▆▇▇▇▇███</td></tr><tr><td>loss</td><td>██▇▇▅▇▅▅▆▅▆▄▅▄▄▃▃▃▃▃▃▂▂▃▂▂▂▃▁▂</td></tr></table><br/></div><div class=\"wandb-col\"><h3>Run summary:</h3><br/><table class=\"wandb\"><tr><td>GFLOPs</td><td>0.00286</td></tr><tr><td>accuracy</td><td>0.98432</td></tr><tr><td>epoch</td><td>29</td></tr><tr><td>loss</td><td>0.04584</td></tr></table><br/></div></div>"
            ]
          },
          "metadata": {}
        },
        {
          "output_type": "display_data",
          "data": {
            "text/plain": [
              "<IPython.core.display.HTML object>"
            ],
            "text/html": [
              "Synced <strong style=\"color:#cdcd00\">leaky_relu</strong>: <a href=\"https://wandb.ai/techzx/Activation%20Functions%20Test%20C-30-2000%20Fashion%20Mnist/runs/leaky_relu\" target=\"_blank\">https://wandb.ai/techzx/Activation%20Functions%20Test%20C-30-2000%20Fashion%20Mnist/runs/leaky_relu</a><br/>Synced 5 W&B file(s), 1 media file(s), 0 artifact file(s) and 0 other file(s)"
            ]
          },
          "metadata": {}
        },
        {
          "output_type": "display_data",
          "data": {
            "text/plain": [
              "<IPython.core.display.HTML object>"
            ],
            "text/html": [
              "Find logs at: <code>./wandb/run-20220928_003507-leaky_relu/logs</code>"
            ]
          },
          "metadata": {}
        },
        {
          "output_type": "display_data",
          "data": {
            "text/plain": [
              "<IPython.core.display.HTML object>"
            ],
            "text/html": [
              "Successfully finished last run (ID:leaky_relu). Initializing new run:<br/>"
            ]
          },
          "metadata": {}
        },
        {
          "output_type": "display_data",
          "data": {
            "text/plain": [
              "<IPython.core.display.HTML object>"
            ],
            "text/html": [
              "Tracking run with wandb version 0.13.3"
            ]
          },
          "metadata": {}
        },
        {
          "output_type": "display_data",
          "data": {
            "text/plain": [
              "<IPython.core.display.HTML object>"
            ],
            "text/html": [
              "Run data is saved locally in <code>/content/wandb/run-20220928_004050-elu</code>"
            ]
          },
          "metadata": {}
        },
        {
          "output_type": "display_data",
          "data": {
            "text/plain": [
              "<IPython.core.display.HTML object>"
            ],
            "text/html": [
              "Syncing run <strong><a href=\"https://wandb.ai/techzx/Activation%20Functions%20Test%20C-30-2000%20Fashion%20Mnist/runs/elu\" target=\"_blank\">elu</a></strong> to <a href=\"https://wandb.ai/techzx/Activation%20Functions%20Test%20C-30-2000%20Fashion%20Mnist\" target=\"_blank\">Weights & Biases</a> (<a href=\"https://wandb.me/run\" target=\"_blank\">docs</a>)<br/>"
            ]
          },
          "metadata": {}
        },
        {
          "output_type": "stream",
          "name": "stdout",
          "text": [
            "Epoch 1/30\n",
            "2000/2000 [==============================] - 7s 4ms/step - loss: 0.0505 - accuracy: 0.9830\n",
            "Epoch 2/30\n",
            "2000/2000 [==============================] - 7s 3ms/step - loss: 0.0433 - accuracy: 0.9851\n",
            "Epoch 3/30\n",
            "2000/2000 [==============================] - 7s 3ms/step - loss: 0.0473 - accuracy: 0.9848\n",
            "Epoch 4/30\n",
            "2000/2000 [==============================] - 7s 3ms/step - loss: 0.0432 - accuracy: 0.9851\n",
            "Epoch 5/30\n",
            "2000/2000 [==============================] - 7s 4ms/step - loss: 0.0455 - accuracy: 0.9844\n",
            "Epoch 6/30\n",
            "2000/2000 [==============================] - 7s 3ms/step - loss: 0.0421 - accuracy: 0.9859\n",
            "Epoch 7/30\n",
            "2000/2000 [==============================] - 7s 3ms/step - loss: 0.0449 - accuracy: 0.9852\n",
            "Epoch 8/30\n",
            "2000/2000 [==============================] - 7s 3ms/step - loss: 0.0453 - accuracy: 0.9851\n",
            "Epoch 9/30\n",
            "2000/2000 [==============================] - 8s 4ms/step - loss: 0.0399 - accuracy: 0.9866\n",
            "Epoch 10/30\n",
            "2000/2000 [==============================] - 7s 3ms/step - loss: 0.0455 - accuracy: 0.9848\n",
            "Epoch 11/30\n",
            "2000/2000 [==============================] - 7s 3ms/step - loss: 0.0460 - accuracy: 0.9852\n",
            "Epoch 12/30\n",
            "2000/2000 [==============================] - 7s 3ms/step - loss: 0.0411 - accuracy: 0.9865\n",
            "Epoch 13/30\n",
            "2000/2000 [==============================] - 7s 4ms/step - loss: 0.0461 - accuracy: 0.9853\n",
            "Epoch 14/30\n",
            "2000/2000 [==============================] - 7s 3ms/step - loss: 0.0437 - accuracy: 0.9856\n",
            "Epoch 15/30\n",
            "2000/2000 [==============================] - 7s 3ms/step - loss: 0.0391 - accuracy: 0.9866\n",
            "Epoch 16/30\n",
            "2000/2000 [==============================] - 7s 4ms/step - loss: 0.0386 - accuracy: 0.9872\n",
            "Epoch 17/30\n",
            "2000/2000 [==============================] - 7s 3ms/step - loss: 0.0426 - accuracy: 0.9857\n",
            "Epoch 18/30\n",
            "2000/2000 [==============================] - 7s 3ms/step - loss: 0.0405 - accuracy: 0.9867\n",
            "Epoch 19/30\n",
            "2000/2000 [==============================] - 7s 3ms/step - loss: 0.0435 - accuracy: 0.9858\n",
            "Epoch 20/30\n",
            "2000/2000 [==============================] - 7s 3ms/step - loss: 0.0379 - accuracy: 0.9876\n",
            "Epoch 21/30\n",
            "2000/2000 [==============================] - 7s 3ms/step - loss: 0.0418 - accuracy: 0.9862\n",
            "Epoch 22/30\n",
            "2000/2000 [==============================] - 7s 3ms/step - loss: 0.0419 - accuracy: 0.9862\n",
            "Epoch 23/30\n",
            "2000/2000 [==============================] - 7s 4ms/step - loss: 0.0385 - accuracy: 0.9877\n",
            "Epoch 24/30\n",
            "2000/2000 [==============================] - 7s 4ms/step - loss: 0.0451 - accuracy: 0.9862\n",
            "Epoch 25/30\n",
            "2000/2000 [==============================] - 7s 3ms/step - loss: 0.0415 - accuracy: 0.9866\n",
            "Epoch 26/30\n",
            "2000/2000 [==============================] - 7s 3ms/step - loss: 0.0394 - accuracy: 0.9881\n",
            "Epoch 27/30\n",
            "2000/2000 [==============================] - 7s 4ms/step - loss: 0.0436 - accuracy: 0.9870\n",
            "Epoch 28/30\n",
            "2000/2000 [==============================] - 7s 3ms/step - loss: 0.0443 - accuracy: 0.9858\n",
            "Epoch 29/30\n",
            "2000/2000 [==============================] - 7s 3ms/step - loss: 0.0378 - accuracy: 0.9876\n",
            "Epoch 30/30\n",
            "2000/2000 [==============================] - 7s 3ms/step - loss: 0.0404 - accuracy: 0.9875\n",
            "Elapsed 210.572 seconds.\n"
          ]
        }
      ]
    },
    {
      "cell_type": "markdown",
      "source": [
        "#**GELU**"
      ],
      "metadata": {
        "id": "d313O4yGEB4a"
      }
    },
    {
      "cell_type": "code",
      "source": [
        "from keras.models import Sequential\n",
        "from keras.layers import Dense, Conv2D, Dropout, Flatten, MaxPooling2D\n",
        "# Creating a Sequential Model and adding the layers\n",
        "model = Sequential()\n",
        "model.add(Conv2D(32, kernel_size=(3,3), activation='gelu', input_shape=input_shape))#default s=1\n",
        "model.add(MaxPooling2D(pool_size=(2, 2)))#default s=2\n",
        "model.add(Conv2D(64, kernel_size=(3,3), activation='gelu'))\n",
        "model.add(MaxPooling2D(pool_size=(2, 2)))\n",
        "model.add(Conv2D(64, kernel_size=(3,3), activation='gelu'))\n",
        "model.add(Flatten()) # Flattening the 3D arrays for fully connected layers\n",
        "model.add(Dense(128, activation='gelu'))#<---- 1st hideen layer\n",
        "model.add(Dropout(0.2))\n",
        "model.add(Dense(10,activation='softmax'))#<-----output layer\n",
        "\n",
        "wandb.init(project='Activation Functions Test C-30-2000 Fashion Mnist', id='gelu')\n",
        "start = time.perf_counter()\n",
        "model.compile(optimizer='adam',\n",
        "              loss='sparse_categorical_crossentropy', \n",
        "              metrics=['accuracy']) #configures the model\n",
        "model.fit(x=X_train,y=y_train, epochs=30,steps_per_epoch=2000, callbacks=[WandbCallback()])\n",
        "elapsed = time.perf_counter() - start\n",
        "print('Elapsed %.3f seconds.' % elapsed)"
      ],
      "metadata": {
        "id": "i3o5G9J2wX6D",
        "colab": {
          "base_uri": "https://localhost:8080/",
          "height": 1000,
          "referenced_widgets": [
            "96cbc13272e940b693173aaa32b4b62e",
            "a3c5996f15384cf59624de80d60e67a4",
            "fbe0442803774d0d8b49919dc209a7f4",
            "6c1546e64cd943ed81c913352c4d87f8",
            "683880a8f0cf4d0e810e205b471c8ebb",
            "a67a3a96efd64b7fbfe90bf7e809c590",
            "a87bca1bd7f844989eed5d74aa7ba734",
            "99d0632090974ef7a0cadc362bca08db"
          ]
        },
        "outputId": "6e898545-db85-404d-9b74-0279f89a4cce"
      },
      "execution_count": null,
      "outputs": [
        {
          "output_type": "display_data",
          "data": {
            "text/plain": [
              "<IPython.core.display.HTML object>"
            ],
            "text/html": [
              "Finishing last run (ID:elu) before initializing another..."
            ]
          },
          "metadata": {}
        },
        {
          "output_type": "display_data",
          "data": {
            "text/plain": [
              "<IPython.core.display.HTML object>"
            ],
            "text/html": [
              "Waiting for W&B process to finish... <strong style=\"color:green\">(success).</strong>"
            ]
          },
          "metadata": {}
        },
        {
          "output_type": "display_data",
          "data": {
            "text/plain": [
              "VBox(children=(Label(value='0.002 MB of 0.002 MB uploaded (0.000 MB deduped)\\r'), FloatProgress(value=1.0, max…"
            ],
            "application/vnd.jupyter.widget-view+json": {
              "version_major": 2,
              "version_minor": 0,
              "model_id": "96cbc13272e940b693173aaa32b4b62e"
            }
          },
          "metadata": {}
        },
        {
          "output_type": "display_data",
          "data": {
            "text/plain": [
              "<IPython.core.display.HTML object>"
            ],
            "text/html": [
              "<style>\n",
              "    table.wandb td:nth-child(1) { padding: 0 10px; text-align: left ; width: auto;} td:nth-child(2) {text-align: left ; width: 100%}\n",
              "    .wandb-row { display: flex; flex-direction: row; flex-wrap: wrap; justify-content: flex-start; width: 100% }\n",
              "    .wandb-col { display: flex; flex-direction: column; flex-basis: 100%; flex: 1; padding: 10px; }\n",
              "    </style>\n",
              "<div class=\"wandb-row\"><div class=\"wandb-col\"><h3>Run history:</h3><br/><table class=\"wandb\"><tr><td>accuracy</td><td>▁▄▃▄▃▅▄▄▆▃▄▆▄▅▆▇▅▆▅▇▅▅▇▅▆█▆▅▇▇</td></tr><tr><td>epoch</td><td>▁▁▁▂▂▂▂▃▃▃▃▄▄▄▄▅▅▅▅▆▆▆▆▇▇▇▇███</td></tr><tr><td>loss</td><td>█▄▆▄▅▃▅▅▂▅▆▃▆▄▂▁▄▂▄▁▃▃▁▅▃▂▄▅▁▂</td></tr></table><br/></div><div class=\"wandb-col\"><h3>Run summary:</h3><br/><table class=\"wandb\"><tr><td>GFLOPs</td><td>0.00286</td></tr><tr><td>accuracy</td><td>0.98747</td></tr><tr><td>epoch</td><td>29</td></tr><tr><td>loss</td><td>0.04037</td></tr></table><br/></div></div>"
            ]
          },
          "metadata": {}
        },
        {
          "output_type": "display_data",
          "data": {
            "text/plain": [
              "<IPython.core.display.HTML object>"
            ],
            "text/html": [
              "Synced <strong style=\"color:#cdcd00\">elu</strong>: <a href=\"https://wandb.ai/techzx/Activation%20Functions%20Test%20C-30-2000%20Fashion%20Mnist/runs/elu\" target=\"_blank\">https://wandb.ai/techzx/Activation%20Functions%20Test%20C-30-2000%20Fashion%20Mnist/runs/elu</a><br/>Synced 5 W&B file(s), 1 media file(s), 0 artifact file(s) and 0 other file(s)"
            ]
          },
          "metadata": {}
        },
        {
          "output_type": "display_data",
          "data": {
            "text/plain": [
              "<IPython.core.display.HTML object>"
            ],
            "text/html": [
              "Find logs at: <code>./wandb/run-20220928_004050-elu/logs</code>"
            ]
          },
          "metadata": {}
        },
        {
          "output_type": "display_data",
          "data": {
            "text/plain": [
              "<IPython.core.display.HTML object>"
            ],
            "text/html": [
              "Successfully finished last run (ID:elu). Initializing new run:<br/>"
            ]
          },
          "metadata": {}
        },
        {
          "output_type": "display_data",
          "data": {
            "text/plain": [
              "<IPython.core.display.HTML object>"
            ],
            "text/html": [
              "Tracking run with wandb version 0.13.3"
            ]
          },
          "metadata": {}
        },
        {
          "output_type": "display_data",
          "data": {
            "text/plain": [
              "<IPython.core.display.HTML object>"
            ],
            "text/html": [
              "Run data is saved locally in <code>/content/wandb/run-20220928_004514-gelu</code>"
            ]
          },
          "metadata": {}
        },
        {
          "output_type": "display_data",
          "data": {
            "text/plain": [
              "<IPython.core.display.HTML object>"
            ],
            "text/html": [
              "Syncing run <strong><a href=\"https://wandb.ai/techzx/Activation%20Functions%20Test%20C-30-2000%20Fashion%20Mnist/runs/gelu\" target=\"_blank\">gelu</a></strong> to <a href=\"https://wandb.ai/techzx/Activation%20Functions%20Test%20C-30-2000%20Fashion%20Mnist\" target=\"_blank\">Weights & Biases</a> (<a href=\"https://wandb.me/run\" target=\"_blank\">docs</a>)<br/>"
            ]
          },
          "metadata": {}
        },
        {
          "output_type": "stream",
          "name": "stdout",
          "text": [
            "Epoch 1/30\n",
            "2000/2000 [==============================] - 8s 4ms/step - loss: 0.5121 - accuracy: 0.8088\n",
            "Epoch 2/30\n",
            "2000/2000 [==============================] - 8s 4ms/step - loss: 0.3238 - accuracy: 0.8813\n",
            "Epoch 3/30\n",
            "2000/2000 [==============================] - 8s 4ms/step - loss: 0.2763 - accuracy: 0.8973\n",
            "Epoch 4/30\n",
            "2000/2000 [==============================] - 8s 4ms/step - loss: 0.2396 - accuracy: 0.9117\n",
            "Epoch 5/30\n",
            "2000/2000 [==============================] - 8s 4ms/step - loss: 0.2153 - accuracy: 0.9196\n",
            "Epoch 6/30\n",
            "2000/2000 [==============================] - 8s 4ms/step - loss: 0.1933 - accuracy: 0.9273\n",
            "Epoch 7/30\n",
            "2000/2000 [==============================] - 8s 4ms/step - loss: 0.1733 - accuracy: 0.9342\n",
            "Epoch 8/30\n",
            "2000/2000 [==============================] - 8s 4ms/step - loss: 0.1536 - accuracy: 0.9412\n",
            "Epoch 9/30\n",
            "2000/2000 [==============================] - 8s 4ms/step - loss: 0.1395 - accuracy: 0.9468\n",
            "Epoch 10/30\n",
            "2000/2000 [==============================] - 8s 4ms/step - loss: 0.1257 - accuracy: 0.9526\n",
            "Epoch 11/30\n",
            "2000/2000 [==============================] - 8s 4ms/step - loss: 0.1118 - accuracy: 0.9565\n",
            "Epoch 12/30\n",
            "2000/2000 [==============================] - 8s 4ms/step - loss: 0.1009 - accuracy: 0.9609\n",
            "Epoch 13/30\n",
            "2000/2000 [==============================] - 8s 4ms/step - loss: 0.0943 - accuracy: 0.9642\n",
            "Epoch 14/30\n",
            "2000/2000 [==============================] - 9s 4ms/step - loss: 0.0866 - accuracy: 0.9664\n",
            "Epoch 15/30\n",
            "2000/2000 [==============================] - 8s 4ms/step - loss: 0.0806 - accuracy: 0.9699\n",
            "Epoch 16/30\n",
            "2000/2000 [==============================] - 8s 4ms/step - loss: 0.0766 - accuracy: 0.9709\n",
            "Epoch 17/30\n",
            "2000/2000 [==============================] - 8s 4ms/step - loss: 0.0688 - accuracy: 0.9743\n",
            "Epoch 18/30\n",
            "2000/2000 [==============================] - 8s 4ms/step - loss: 0.0664 - accuracy: 0.9749\n",
            "Epoch 19/30\n",
            "2000/2000 [==============================] - 8s 4ms/step - loss: 0.0623 - accuracy: 0.9761\n",
            "Epoch 20/30\n",
            "2000/2000 [==============================] - 8s 4ms/step - loss: 0.0585 - accuracy: 0.9775\n",
            "Epoch 21/30\n",
            "2000/2000 [==============================] - 8s 4ms/step - loss: 0.0570 - accuracy: 0.9788\n",
            "Epoch 22/30\n",
            "2000/2000 [==============================] - 8s 4ms/step - loss: 0.0510 - accuracy: 0.9808\n",
            "Epoch 23/30\n",
            "2000/2000 [==============================] - 8s 4ms/step - loss: 0.0541 - accuracy: 0.9794\n",
            "Epoch 24/30\n",
            "2000/2000 [==============================] - 8s 4ms/step - loss: 0.0482 - accuracy: 0.9821\n",
            "Epoch 25/30\n",
            "2000/2000 [==============================] - 8s 4ms/step - loss: 0.0482 - accuracy: 0.9821\n",
            "Epoch 26/30\n",
            "2000/2000 [==============================] - 8s 4ms/step - loss: 0.0493 - accuracy: 0.9818\n",
            "Epoch 27/30\n",
            "2000/2000 [==============================] - 8s 4ms/step - loss: 0.0460 - accuracy: 0.9829\n",
            "Epoch 28/30\n",
            "2000/2000 [==============================] - 8s 4ms/step - loss: 0.0443 - accuracy: 0.9839\n",
            "Epoch 29/30\n",
            "2000/2000 [==============================] - 8s 4ms/step - loss: 0.0416 - accuracy: 0.9847\n",
            "Epoch 30/30\n",
            "2000/2000 [==============================] - 8s 4ms/step - loss: 0.0448 - accuracy: 0.9837\n",
            "Elapsed 262.940 seconds.\n"
          ]
        }
      ]
    },
    {
      "cell_type": "markdown",
      "source": [
        "#**Swish**"
      ],
      "metadata": {
        "id": "aEK3kXgfEGBb"
      }
    },
    {
      "cell_type": "code",
      "source": [
        "#writing the swish activation function\n",
        "\n",
        "\n",
        "import tensorflow\n",
        "import keras\n",
        "from keras.layers import Activation\n",
        "from keras.utils.generic_utils import get_custom_objects\n",
        "\n",
        "class Swish(keras.layers.Activation):\n",
        "  def __init__(self, activation, **kwargs):\n",
        "    super(Swish, self).__init__(activation, **kwargs)\n",
        "    self.__name__ = 'Swish'\n",
        "  def swish(inputs):\n",
        "    return inputs * keras.activations.sigmoid(inputs)\n",
        "\n",
        "  get_custom_objects().update({'Swish': Swish(swish)})"
      ],
      "metadata": {
        "id": "cvcn7gzQwaGm"
      },
      "execution_count": null,
      "outputs": []
    },
    {
      "cell_type": "code",
      "source": [
        "from keras.models import Sequential\n",
        "from keras.layers import Dense, Conv2D, Dropout, Flatten, MaxPooling2D\n",
        "# Creating a Sequential Model and adding the layers\n",
        "model2 = Sequential()\n",
        "model2.add(Conv2D(32, kernel_size=(3,3), activation='Swish', input_shape=input_shape))#default s=1\n",
        "model2.add(MaxPooling2D(pool_size=(2, 2)))#default s=2\n",
        "model2.add(Conv2D(64, kernel_size=(3,3), activation='Swish'))\n",
        "model2.add(MaxPooling2D(pool_size=(2, 2)))\n",
        "model2.add(Conv2D(64, kernel_size=(3,3), activation='Swish'))\n",
        "model2.add(Flatten()) # Flattening the 3D arrays for fully connected layers\n",
        "model2.add(Dense(128, activation='Swish'))#<---- 1st hideen layer\n",
        "model2.add(Dropout(0.2))\n",
        "model2.add(Dense(10,activation='softmax'))#<-----output layer\n",
        "\n",
        "wandb.init(project='Activation Functions Test C-30-2000 Fashion Mnist', id='swish')\n",
        "start = time.perf_counter()\n",
        "model2.compile(optimizer='adam', \n",
        "              loss='sparse_categorical_crossentropy', \n",
        "              metrics=['accuracy']) #configures the model\n",
        "model2.fit(x=X_train,y=y_train, epochs=30,steps_per_epoch=2000, callbacks=[WandbCallback()])\n",
        "elapsed = time.perf_counter() - start\n",
        "print('Elapsed %.3f seconds.' % elapsed)"
      ],
      "metadata": {
        "id": "nVIFJuw6wc4H",
        "colab": {
          "base_uri": "https://localhost:8080/",
          "height": 1000,
          "referenced_widgets": [
            "9f9b7bc9555047baa39b8ee95aa7fa4a",
            "980667157a154925af2bf0ee0fdaaa90",
            "6622c909f80848a7ad541cf2c60ef1a0",
            "e8760b5f481e4846a6d1e925ac0cb148",
            "58a1e074c8714a51857a0619a00e5dea",
            "e88e3a82f0b14ff093fdcda59240fc93",
            "010d5a757e3d4c03830023404b2ccbe2",
            "9af31ff4e6644ef991813221a5c5955b"
          ]
        },
        "outputId": "3eff6c52-5814-4f69-a8fe-bc60f6be3fbb"
      },
      "execution_count": null,
      "outputs": [
        {
          "output_type": "display_data",
          "data": {
            "text/plain": [
              "<IPython.core.display.HTML object>"
            ],
            "text/html": [
              "Finishing last run (ID:gelu) before initializing another..."
            ]
          },
          "metadata": {}
        },
        {
          "output_type": "display_data",
          "data": {
            "text/plain": [
              "<IPython.core.display.HTML object>"
            ],
            "text/html": [
              "Waiting for W&B process to finish... <strong style=\"color:green\">(success).</strong>"
            ]
          },
          "metadata": {}
        },
        {
          "output_type": "display_data",
          "data": {
            "text/plain": [
              "VBox(children=(Label(value='0.002 MB of 0.002 MB uploaded (0.000 MB deduped)\\r'), FloatProgress(value=1.0, max…"
            ],
            "application/vnd.jupyter.widget-view+json": {
              "version_major": 2,
              "version_minor": 0,
              "model_id": "9f9b7bc9555047baa39b8ee95aa7fa4a"
            }
          },
          "metadata": {}
        },
        {
          "output_type": "display_data",
          "data": {
            "text/plain": [
              "<IPython.core.display.HTML object>"
            ],
            "text/html": [
              "<style>\n",
              "    table.wandb td:nth-child(1) { padding: 0 10px; text-align: left ; width: auto;} td:nth-child(2) {text-align: left ; width: 100%}\n",
              "    .wandb-row { display: flex; flex-direction: row; flex-wrap: wrap; justify-content: flex-start; width: 100% }\n",
              "    .wandb-col { display: flex; flex-direction: column; flex-basis: 100%; flex: 1; padding: 10px; }\n",
              "    </style>\n",
              "<div class=\"wandb-row\"><div class=\"wandb-col\"><h3>Run history:</h3><br/><table class=\"wandb\"><tr><td>accuracy</td><td>▁▄▅▅▅▆▆▆▆▇▇▇▇▇▇▇██████████████</td></tr><tr><td>epoch</td><td>▁▁▁▂▂▂▂▃▃▃▃▄▄▄▄▅▅▅▅▆▆▆▆▇▇▇▇███</td></tr><tr><td>loss</td><td>█▅▄▄▄▃▃▃▂▂▂▂▂▂▂▂▁▁▁▁▁▁▁▁▁▁▁▁▁▁</td></tr></table><br/></div><div class=\"wandb-col\"><h3>Run summary:</h3><br/><table class=\"wandb\"><tr><td>GFLOPs</td><td>0.00291</td></tr><tr><td>accuracy</td><td>0.98368</td></tr><tr><td>epoch</td><td>29</td></tr><tr><td>loss</td><td>0.04483</td></tr></table><br/></div></div>"
            ]
          },
          "metadata": {}
        },
        {
          "output_type": "display_data",
          "data": {
            "text/plain": [
              "<IPython.core.display.HTML object>"
            ],
            "text/html": [
              "Synced <strong style=\"color:#cdcd00\">gelu</strong>: <a href=\"https://wandb.ai/techzx/Activation%20Functions%20Test%20C-30-2000%20Fashion%20Mnist/runs/gelu\" target=\"_blank\">https://wandb.ai/techzx/Activation%20Functions%20Test%20C-30-2000%20Fashion%20Mnist/runs/gelu</a><br/>Synced 5 W&B file(s), 1 media file(s), 0 artifact file(s) and 0 other file(s)"
            ]
          },
          "metadata": {}
        },
        {
          "output_type": "display_data",
          "data": {
            "text/plain": [
              "<IPython.core.display.HTML object>"
            ],
            "text/html": [
              "Find logs at: <code>./wandb/run-20220928_004514-gelu/logs</code>"
            ]
          },
          "metadata": {}
        },
        {
          "output_type": "display_data",
          "data": {
            "text/plain": [
              "<IPython.core.display.HTML object>"
            ],
            "text/html": [
              "Successfully finished last run (ID:gelu). Initializing new run:<br/>"
            ]
          },
          "metadata": {}
        },
        {
          "output_type": "display_data",
          "data": {
            "text/plain": [
              "<IPython.core.display.HTML object>"
            ],
            "text/html": [
              "Tracking run with wandb version 0.13.3"
            ]
          },
          "metadata": {}
        },
        {
          "output_type": "display_data",
          "data": {
            "text/plain": [
              "<IPython.core.display.HTML object>"
            ],
            "text/html": [
              "Run data is saved locally in <code>/content/wandb/run-20220928_005005-swish</code>"
            ]
          },
          "metadata": {}
        },
        {
          "output_type": "display_data",
          "data": {
            "text/plain": [
              "<IPython.core.display.HTML object>"
            ],
            "text/html": [
              "Syncing run <strong><a href=\"https://wandb.ai/techzx/Activation%20Functions%20Test%20C-30-2000%20Fashion%20Mnist/runs/swish\" target=\"_blank\">swish</a></strong> to <a href=\"https://wandb.ai/techzx/Activation%20Functions%20Test%20C-30-2000%20Fashion%20Mnist\" target=\"_blank\">Weights & Biases</a> (<a href=\"https://wandb.me/run\" target=\"_blank\">docs</a>)<br/>"
            ]
          },
          "metadata": {}
        },
        {
          "output_type": "stream",
          "name": "stdout",
          "text": [
            "Epoch 1/30\n",
            "2000/2000 [==============================] - 8s 4ms/step - loss: 0.5169 - accuracy: 0.8073\n",
            "Epoch 2/30\n",
            "2000/2000 [==============================] - 7s 4ms/step - loss: 0.3341 - accuracy: 0.8758\n",
            "Epoch 3/30\n",
            "2000/2000 [==============================] - 7s 4ms/step - loss: 0.2866 - accuracy: 0.8927\n",
            "Epoch 4/30\n",
            "2000/2000 [==============================] - 7s 4ms/step - loss: 0.2542 - accuracy: 0.9057\n",
            "Epoch 5/30\n",
            "2000/2000 [==============================] - 7s 4ms/step - loss: 0.2288 - accuracy: 0.9144\n",
            "Epoch 6/30\n",
            "2000/2000 [==============================] - 7s 4ms/step - loss: 0.2060 - accuracy: 0.9232\n",
            "Epoch 7/30\n",
            "2000/2000 [==============================] - 7s 4ms/step - loss: 0.1868 - accuracy: 0.9291\n",
            "Epoch 8/30\n",
            "2000/2000 [==============================] - 7s 4ms/step - loss: 0.1717 - accuracy: 0.9347\n",
            "Epoch 9/30\n",
            "2000/2000 [==============================] - 7s 4ms/step - loss: 0.1531 - accuracy: 0.9419\n",
            "Epoch 10/30\n",
            "2000/2000 [==============================] - 7s 4ms/step - loss: 0.1401 - accuracy: 0.9460\n",
            "Epoch 11/30\n",
            "2000/2000 [==============================] - 7s 4ms/step - loss: 0.1315 - accuracy: 0.9501\n",
            "Epoch 12/30\n",
            "2000/2000 [==============================] - 7s 4ms/step - loss: 0.1180 - accuracy: 0.9556\n",
            "Epoch 13/30\n",
            "2000/2000 [==============================] - 7s 4ms/step - loss: 0.1077 - accuracy: 0.9590\n",
            "Epoch 14/30\n",
            "2000/2000 [==============================] - 7s 4ms/step - loss: 0.1027 - accuracy: 0.9609\n",
            "Epoch 15/30\n",
            "2000/2000 [==============================] - 7s 4ms/step - loss: 0.0927 - accuracy: 0.9636\n",
            "Epoch 16/30\n",
            "2000/2000 [==============================] - 7s 4ms/step - loss: 0.0871 - accuracy: 0.9661\n",
            "Epoch 17/30\n",
            "2000/2000 [==============================] - 8s 4ms/step - loss: 0.0815 - accuracy: 0.9688\n",
            "Epoch 18/30\n",
            "2000/2000 [==============================] - 7s 4ms/step - loss: 0.0742 - accuracy: 0.9713\n",
            "Epoch 19/30\n",
            "2000/2000 [==============================] - 7s 4ms/step - loss: 0.0734 - accuracy: 0.9730\n",
            "Epoch 20/30\n",
            "2000/2000 [==============================] - 7s 4ms/step - loss: 0.0662 - accuracy: 0.9741\n",
            "Epoch 21/30\n",
            "2000/2000 [==============================] - 7s 4ms/step - loss: 0.0662 - accuracy: 0.9754\n",
            "Epoch 22/30\n",
            "2000/2000 [==============================] - 7s 4ms/step - loss: 0.0614 - accuracy: 0.9775\n",
            "Epoch 23/30\n",
            "2000/2000 [==============================] - 7s 4ms/step - loss: 0.0581 - accuracy: 0.9785\n",
            "Epoch 24/30\n",
            "2000/2000 [==============================] - 7s 4ms/step - loss: 0.0579 - accuracy: 0.9792\n",
            "Epoch 25/30\n",
            "2000/2000 [==============================] - 7s 4ms/step - loss: 0.0545 - accuracy: 0.9798\n",
            "Epoch 26/30\n",
            "2000/2000 [==============================] - 7s 4ms/step - loss: 0.0542 - accuracy: 0.9799\n",
            "Epoch 27/30\n",
            "2000/2000 [==============================] - 7s 4ms/step - loss: 0.0544 - accuracy: 0.9796\n",
            "Epoch 28/30\n",
            "2000/2000 [==============================] - 7s 4ms/step - loss: 0.0488 - accuracy: 0.9821\n",
            "Epoch 29/30\n",
            "2000/2000 [==============================] - 7s 4ms/step - loss: 0.0471 - accuracy: 0.9828\n",
            "Epoch 30/30\n",
            "2000/2000 [==============================] - 7s 4ms/step - loss: 0.0488 - accuracy: 0.9825\n",
            "Elapsed 219.312 seconds.\n"
          ]
        }
      ]
    },
    {
      "cell_type": "markdown",
      "source": [
        "#**Mish**"
      ],
      "metadata": {
        "id": "o1CH1jJoEKPS"
      }
    },
    {
      "cell_type": "code",
      "source": [
        "#writing the mish activation function\n",
        "\n",
        "# Import Necessary Modules\n",
        "import tensorflow\n",
        "import keras\n",
        "from keras.layers import Activation\n",
        "from keras.utils.generic_utils import get_custom_objects\n",
        "\n",
        "class Mish(keras.layers.Activation):\n",
        "  def __init__(self, activation, **kwargs):\n",
        "    super(Mish, self).__init__(activation, **kwargs)\n",
        "    self.__name__ ='Mish'\n",
        "  def mish(inputs):\n",
        "    return inputs * keras.activations.tanh(keras.activations.softplus(inputs))\n",
        "  get_custom_objects().update({'Mish': Mish(mish)})"
      ],
      "metadata": {
        "id": "OGPgAgyxwfRK"
      },
      "execution_count": null,
      "outputs": []
    },
    {
      "cell_type": "code",
      "source": [
        "from keras.models import Sequential\n",
        "from keras.layers import Dense, Conv2D, Dropout, Flatten, MaxPooling2D\n",
        "# Creating a Sequential Model and adding the layers\n",
        "model4 = Sequential()\n",
        "model4.add(Conv2D(32, kernel_size=(3,3), activation='Mish', input_shape=input_shape))#default s=1\n",
        "model4.add(MaxPooling2D(pool_size=(2, 2)))#default s=2\n",
        "model4.add(Conv2D(64, kernel_size=(3,3), activation='Mish'))\n",
        "model4.add(MaxPooling2D(pool_size=(2, 2)))\n",
        "model4.add(Conv2D(64, kernel_size=(3,3), activation='Mish'))\n",
        "model4.add(Flatten()) # Flattening the 3D arrays for fully connected layers\n",
        "model4.add(Dense(128, activation='Mish'))#<---- 1st hideen layer\n",
        "model4.add(Dropout(0.2))\n",
        "model4.add(Dense(10,activation='softmax'))#<-----output layer\n",
        "\n",
        "\n",
        "wandb.init(project='Activation Functions Test C-30-2000 Fashion Mnist', id='Mish')\n",
        "start = time.perf_counter()\n",
        "model4.compile(optimizer='adam',\n",
        "              loss='sparse_categorical_crossentropy', \n",
        "              metrics=['accuracy']) #configures the model\n",
        "model4.fit(x=X_train,y=y_train, epochs=30,steps_per_epoch=2000, callbacks=[WandbCallback()])\n",
        "elapsed = time.perf_counter() - start\n",
        "print('Elapsed %.3f seconds.' % elapsed)"
      ],
      "metadata": {
        "id": "BDEd2hUYwiKc",
        "colab": {
          "base_uri": "https://localhost:8080/",
          "height": 1000,
          "referenced_widgets": [
            "90c0538a764a4046b6120d7f073c0e98",
            "3fe8b21965ef4b0fb68a39dd34bd7f4d",
            "6a1e4f86c40c4477bb584188349584d9",
            "fe06798f801444cfae0c2be599ab4d0a",
            "1c7873a01cdf455f8558a731a4239cd0",
            "495e16a7323f419b83bc34b9f499cd23",
            "cc6b06a030ea457a9ac25f312b8d68ee",
            "9489da262b934a8e8a28c299e812bd39"
          ]
        },
        "outputId": "74aa5169-c17a-48c7-9583-574e36f3cb13"
      },
      "execution_count": null,
      "outputs": [
        {
          "output_type": "display_data",
          "data": {
            "text/plain": [
              "<IPython.core.display.HTML object>"
            ],
            "text/html": [
              "Finishing last run (ID:swish) before initializing another..."
            ]
          },
          "metadata": {}
        },
        {
          "output_type": "display_data",
          "data": {
            "text/plain": [
              "<IPython.core.display.HTML object>"
            ],
            "text/html": [
              "Waiting for W&B process to finish... <strong style=\"color:green\">(success).</strong>"
            ]
          },
          "metadata": {}
        },
        {
          "output_type": "display_data",
          "data": {
            "text/plain": [
              "VBox(children=(Label(value='0.002 MB of 0.002 MB uploaded (0.000 MB deduped)\\r'), FloatProgress(value=1.0, max…"
            ],
            "application/vnd.jupyter.widget-view+json": {
              "version_major": 2,
              "version_minor": 0,
              "model_id": "90c0538a764a4046b6120d7f073c0e98"
            }
          },
          "metadata": {}
        },
        {
          "output_type": "display_data",
          "data": {
            "text/plain": [
              "<IPython.core.display.HTML object>"
            ],
            "text/html": [
              "<style>\n",
              "    table.wandb td:nth-child(1) { padding: 0 10px; text-align: left ; width: auto;} td:nth-child(2) {text-align: left ; width: 100%}\n",
              "    .wandb-row { display: flex; flex-direction: row; flex-wrap: wrap; justify-content: flex-start; width: 100% }\n",
              "    .wandb-col { display: flex; flex-direction: column; flex-basis: 100%; flex: 1; padding: 10px; }\n",
              "    </style>\n",
              "<div class=\"wandb-row\"><div class=\"wandb-col\"><h3>Run history:</h3><br/><table class=\"wandb\"><tr><td>accuracy</td><td>▁▄▄▅▅▆▆▆▆▇▇▇▇▇▇▇▇█████████████</td></tr><tr><td>epoch</td><td>▁▁▁▂▂▂▂▃▃▃▃▄▄▄▄▅▅▅▅▆▆▆▆▇▇▇▇███</td></tr><tr><td>loss</td><td>█▅▅▄▄▃▃▃▃▂▂▂▂▂▂▂▂▁▁▁▁▁▁▁▁▁▁▁▁▁</td></tr></table><br/></div><div class=\"wandb-col\"><h3>Run summary:</h3><br/><table class=\"wandb\"><tr><td>GFLOPs</td><td>0.00288</td></tr><tr><td>accuracy</td><td>0.9825</td></tr><tr><td>epoch</td><td>29</td></tr><tr><td>loss</td><td>0.04879</td></tr></table><br/></div></div>"
            ]
          },
          "metadata": {}
        },
        {
          "output_type": "display_data",
          "data": {
            "text/plain": [
              "<IPython.core.display.HTML object>"
            ],
            "text/html": [
              "Synced <strong style=\"color:#cdcd00\">swish</strong>: <a href=\"https://wandb.ai/techzx/Activation%20Functions%20Test%20C-30-2000%20Fashion%20Mnist/runs/swish\" target=\"_blank\">https://wandb.ai/techzx/Activation%20Functions%20Test%20C-30-2000%20Fashion%20Mnist/runs/swish</a><br/>Synced 5 W&B file(s), 1 media file(s), 0 artifact file(s) and 0 other file(s)"
            ]
          },
          "metadata": {}
        },
        {
          "output_type": "display_data",
          "data": {
            "text/plain": [
              "<IPython.core.display.HTML object>"
            ],
            "text/html": [
              "Find logs at: <code>./wandb/run-20220928_005005-swish/logs</code>"
            ]
          },
          "metadata": {}
        },
        {
          "output_type": "display_data",
          "data": {
            "text/plain": [
              "<IPython.core.display.HTML object>"
            ],
            "text/html": [
              "Successfully finished last run (ID:swish). Initializing new run:<br/>"
            ]
          },
          "metadata": {}
        },
        {
          "output_type": "display_data",
          "data": {
            "text/plain": [
              "<IPython.core.display.HTML object>"
            ],
            "text/html": [
              "Tracking run with wandb version 0.13.3"
            ]
          },
          "metadata": {}
        },
        {
          "output_type": "display_data",
          "data": {
            "text/plain": [
              "<IPython.core.display.HTML object>"
            ],
            "text/html": [
              "Run data is saved locally in <code>/content/wandb/run-20220928_005512-Mish</code>"
            ]
          },
          "metadata": {}
        },
        {
          "output_type": "display_data",
          "data": {
            "text/plain": [
              "<IPython.core.display.HTML object>"
            ],
            "text/html": [
              "Syncing run <strong><a href=\"https://wandb.ai/techzx/Activation%20Functions%20Test%20C-30-2000%20Fashion%20Mnist/runs/Mish\" target=\"_blank\">Mish</a></strong> to <a href=\"https://wandb.ai/techzx/Activation%20Functions%20Test%20C-30-2000%20Fashion%20Mnist\" target=\"_blank\">Weights & Biases</a> (<a href=\"https://wandb.me/run\" target=\"_blank\">docs</a>)<br/>"
            ]
          },
          "metadata": {}
        },
        {
          "output_type": "stream",
          "name": "stdout",
          "text": [
            "Epoch 1/30\n",
            "2000/2000 [==============================] - 8s 4ms/step - loss: 0.4920 - accuracy: 0.8186\n",
            "Epoch 2/30\n",
            "2000/2000 [==============================] - 7s 4ms/step - loss: 0.3236 - accuracy: 0.8807\n",
            "Epoch 3/30\n",
            "2000/2000 [==============================] - 7s 4ms/step - loss: 0.2760 - accuracy: 0.8982\n",
            "Epoch 4/30\n",
            "2000/2000 [==============================] - 7s 4ms/step - loss: 0.2424 - accuracy: 0.9104\n",
            "Epoch 5/30\n",
            "2000/2000 [==============================] - 7s 4ms/step - loss: 0.2208 - accuracy: 0.9182\n",
            "Epoch 6/30\n",
            "2000/2000 [==============================] - 7s 4ms/step - loss: 0.1999 - accuracy: 0.9258\n",
            "Epoch 7/30\n",
            "2000/2000 [==============================] - 7s 4ms/step - loss: 0.1799 - accuracy: 0.9323\n",
            "Epoch 8/30\n",
            "2000/2000 [==============================] - 7s 4ms/step - loss: 0.1619 - accuracy: 0.9389\n",
            "Epoch 9/30\n",
            "2000/2000 [==============================] - 7s 4ms/step - loss: 0.1466 - accuracy: 0.9445\n",
            "Epoch 10/30\n",
            "2000/2000 [==============================] - 7s 4ms/step - loss: 0.1338 - accuracy: 0.9488\n",
            "Epoch 11/30\n",
            "2000/2000 [==============================] - 7s 4ms/step - loss: 0.1230 - accuracy: 0.9525\n",
            "Epoch 12/30\n",
            "2000/2000 [==============================] - 7s 4ms/step - loss: 0.1136 - accuracy: 0.9564\n",
            "Epoch 13/30\n",
            "2000/2000 [==============================] - 7s 4ms/step - loss: 0.1030 - accuracy: 0.9612\n",
            "Epoch 14/30\n",
            "2000/2000 [==============================] - 7s 4ms/step - loss: 0.0965 - accuracy: 0.9630\n",
            "Epoch 15/30\n",
            "2000/2000 [==============================] - 7s 4ms/step - loss: 0.0867 - accuracy: 0.9664\n",
            "Epoch 16/30\n",
            "2000/2000 [==============================] - 7s 4ms/step - loss: 0.0839 - accuracy: 0.9687\n",
            "Epoch 17/30\n",
            "2000/2000 [==============================] - 8s 4ms/step - loss: 0.0794 - accuracy: 0.9706\n",
            "Epoch 18/30\n",
            "2000/2000 [==============================] - 7s 4ms/step - loss: 0.0753 - accuracy: 0.9714\n",
            "Epoch 19/30\n",
            "2000/2000 [==============================] - 7s 4ms/step - loss: 0.0697 - accuracy: 0.9734\n",
            "Epoch 20/30\n",
            "2000/2000 [==============================] - 7s 4ms/step - loss: 0.0684 - accuracy: 0.9738\n",
            "Epoch 21/30\n",
            "2000/2000 [==============================] - 7s 4ms/step - loss: 0.0670 - accuracy: 0.9755\n",
            "Epoch 22/30\n",
            "2000/2000 [==============================] - 7s 4ms/step - loss: 0.0603 - accuracy: 0.9776\n",
            "Epoch 23/30\n",
            "2000/2000 [==============================] - 7s 4ms/step - loss: 0.0623 - accuracy: 0.9769\n",
            "Epoch 24/30\n",
            "2000/2000 [==============================] - 7s 4ms/step - loss: 0.0569 - accuracy: 0.9789\n",
            "Epoch 25/30\n",
            "2000/2000 [==============================] - 7s 4ms/step - loss: 0.0612 - accuracy: 0.9782\n",
            "Epoch 26/30\n",
            "2000/2000 [==============================] - 7s 4ms/step - loss: 0.0525 - accuracy: 0.9799\n",
            "Epoch 27/30\n",
            "2000/2000 [==============================] - 7s 4ms/step - loss: 0.0561 - accuracy: 0.9791\n",
            "Epoch 28/30\n",
            "2000/2000 [==============================] - 7s 4ms/step - loss: 0.0514 - accuracy: 0.9811\n",
            "Epoch 29/30\n",
            "2000/2000 [==============================] - 7s 4ms/step - loss: 0.0495 - accuracy: 0.9823\n",
            "Epoch 30/30\n",
            "2000/2000 [==============================] - 7s 4ms/step - loss: 0.0499 - accuracy: 0.9814\n",
            "Elapsed 262.750 seconds.\n"
          ]
        }
      ]
    }
  ]
}